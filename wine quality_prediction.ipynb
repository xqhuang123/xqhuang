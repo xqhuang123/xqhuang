{
 "cells": [
  {
   "cell_type": "markdown",
   "metadata": {},
   "source": [
    "## 1. Load the packages and the dataset"
   ]
  },
  {
   "cell_type": "code",
   "execution_count": null,
   "metadata": {},
   "outputs": [],
   "source": [
    "# load the package\n",
    "library(ggplot2)\n",
    "library(corrplot)\n",
    "library(caret)\n",
    "library(C50)\n",
    "library(e1071)\n",
    "library(nnet)\n",
    "library(randomForest)\n",
    "library(plyr)"
   ]
  },
  {
   "cell_type": "code",
   "execution_count": null,
   "metadata": {},
   "outputs": [],
   "source": [
    "# read data\n",
    "wine<-read.csv(\"Q2_winequality-2.csv\",header=T)"
   ]
  },
  {
   "cell_type": "markdown",
   "metadata": {},
   "source": [
    "## 2. Exploratory data analysis"
   ]
  },
  {
   "cell_type": "markdown",
   "metadata": {},
   "source": [
    "### 2.1 Check the basic information of the dataset"
   ]
  },
  {
   "cell_type": "code",
   "execution_count": 617,
   "metadata": {},
   "outputs": [
    {
     "data": {
      "text/html": [
       "<table>\n",
       "<thead><tr><th scope=col>fixed.acidity</th><th scope=col>volatile.acidity</th><th scope=col>citric.acid</th><th scope=col>residual.sugar</th><th scope=col>chlorides</th><th scope=col>free.sulfur.dioxide</th><th scope=col>total.sulfur.dioxide</th><th scope=col>density</th><th scope=col>pH</th><th scope=col>sulphates</th><th scope=col>alcohol</th><th scope=col>winetype</th><th scope=col>quality</th></tr></thead>\n",
       "<tbody>\n",
       "\t<tr><td>7.4   </td><td>0.70  </td><td>0.00  </td><td>1.9   </td><td>0.076 </td><td>11    </td><td>34    </td><td>0.9978</td><td>3.51  </td><td>0.56  </td><td>9.4   </td><td>red   </td><td>5     </td></tr>\n",
       "\t<tr><td>7.8   </td><td>0.88  </td><td>0.00  </td><td>2.6   </td><td>0.098 </td><td>25    </td><td>67    </td><td>0.9968</td><td>3.20  </td><td>0.68  </td><td>9.8   </td><td>red   </td><td>5     </td></tr>\n",
       "\t<tr><td>7.8   </td><td>0.76  </td><td>0.04  </td><td>2.3   </td><td>0.092 </td><td>15    </td><td>54    </td><td>0.9970</td><td>3.26  </td><td>0.65  </td><td>9.8   </td><td>red   </td><td>5     </td></tr>\n",
       "</tbody>\n",
       "</table>\n"
      ],
      "text/latex": [
       "\\begin{tabular}{r|lllllllllllll}\n",
       " fixed.acidity & volatile.acidity & citric.acid & residual.sugar & chlorides & free.sulfur.dioxide & total.sulfur.dioxide & density & pH & sulphates & alcohol & winetype & quality\\\\\n",
       "\\hline\n",
       "\t 7.4    & 0.70   & 0.00   & 1.9    & 0.076  & 11     & 34     & 0.9978 & 3.51   & 0.56   & 9.4    & red    & 5     \\\\\n",
       "\t 7.8    & 0.88   & 0.00   & 2.6    & 0.098  & 25     & 67     & 0.9968 & 3.20   & 0.68   & 9.8    & red    & 5     \\\\\n",
       "\t 7.8    & 0.76   & 0.04   & 2.3    & 0.092  & 15     & 54     & 0.9970 & 3.26   & 0.65   & 9.8    & red    & 5     \\\\\n",
       "\\end{tabular}\n"
      ],
      "text/markdown": [
       "\n",
       "| fixed.acidity | volatile.acidity | citric.acid | residual.sugar | chlorides | free.sulfur.dioxide | total.sulfur.dioxide | density | pH | sulphates | alcohol | winetype | quality |\n",
       "|---|---|---|---|---|---|---|---|---|---|---|---|---|\n",
       "| 7.4    | 0.70   | 0.00   | 1.9    | 0.076  | 11     | 34     | 0.9978 | 3.51   | 0.56   | 9.4    | red    | 5      |\n",
       "| 7.8    | 0.88   | 0.00   | 2.6    | 0.098  | 25     | 67     | 0.9968 | 3.20   | 0.68   | 9.8    | red    | 5      |\n",
       "| 7.8    | 0.76   | 0.04   | 2.3    | 0.092  | 15     | 54     | 0.9970 | 3.26   | 0.65   | 9.8    | red    | 5      |\n",
       "\n"
      ],
      "text/plain": [
       "  fixed.acidity volatile.acidity citric.acid residual.sugar chlorides\n",
       "1 7.4           0.70             0.00        1.9            0.076    \n",
       "2 7.8           0.88             0.00        2.6            0.098    \n",
       "3 7.8           0.76             0.04        2.3            0.092    \n",
       "  free.sulfur.dioxide total.sulfur.dioxide density pH   sulphates alcohol\n",
       "1 11                  34                   0.9978  3.51 0.56      9.4    \n",
       "2 25                  67                   0.9968  3.20 0.68      9.8    \n",
       "3 15                  54                   0.9970  3.26 0.65      9.8    \n",
       "  winetype quality\n",
       "1 red      5      \n",
       "2 red      5      \n",
       "3 red      5      "
      ]
     },
     "metadata": {},
     "output_type": "display_data"
    },
    {
     "name": "stdout",
     "output_type": "stream",
     "text": [
      "'data.frame':\t6497 obs. of  13 variables:\n",
      " $ fixed.acidity       : num  7.4 7.8 7.8 11.2 7.4 7.4 7.9 7.3 7.8 7.5 ...\n",
      " $ volatile.acidity    : num  0.7 0.88 0.76 0.28 0.7 0.66 0.6 0.65 0.58 0.5 ...\n",
      " $ citric.acid         : num  0 0 0.04 0.56 0 0 0.06 0 0.02 0.36 ...\n",
      " $ residual.sugar      : num  1.9 2.6 2.3 1.9 1.9 1.8 1.6 1.2 2 6.1 ...\n",
      " $ chlorides           : num  0.076 0.098 0.092 0.075 0.076 0.075 0.069 0.065 0.073 0.071 ...\n",
      " $ free.sulfur.dioxide : int  11 25 15 17 11 13 15 15 9 17 ...\n",
      " $ total.sulfur.dioxide: int  34 67 54 60 34 40 59 21 18 102 ...\n",
      " $ density             : num  0.998 0.997 0.997 0.998 0.998 ...\n",
      " $ pH                  : num  3.51 3.2 3.26 3.16 3.51 3.51 3.3 3.39 3.36 3.35 ...\n",
      " $ sulphates           : num  0.56 0.68 0.65 0.58 0.56 0.56 0.46 0.47 0.57 0.8 ...\n",
      " $ alcohol             : num  9.4 9.8 9.8 9.8 9.4 9.4 9.4 10 9.5 10.5 ...\n",
      " $ winetype            : Factor w/ 2 levels \"red\",\"white\": 1 1 1 1 1 1 1 1 1 1 ...\n",
      " $ quality             : int  5 5 5 6 5 5 5 7 7 5 ...\n"
     ]
    },
    {
     "data": {
      "text/plain": [
       " fixed.acidity   volatile.acidity  citric.acid    residual.sugar \n",
       " Min.   : 3.80   Min.   :0.08     Min.   :0.000   Min.   : 0.60  \n",
       " 1st Qu.: 6.40   1st Qu.:0.23     1st Qu.:0.250   1st Qu.: 1.80  \n",
       " Median : 7.00   Median :0.29     Median :0.310   Median : 3.00  \n",
       " Mean   : 7.21   Mean   :0.34     Mean   :0.319   Mean   : 5.44  \n",
       " 3rd Qu.: 7.70   3rd Qu.:0.40     3rd Qu.:0.390   3rd Qu.: 8.10  \n",
       " Max.   :15.90   Max.   :1.58     Max.   :1.660   Max.   :65.80  \n",
       "   chlorides     free.sulfur.dioxide total.sulfur.dioxide    density     \n",
       " Min.   :0.009   Min.   :  1.0       Min.   :  6          Min.   :0.987  \n",
       " 1st Qu.:0.038   1st Qu.: 17.0       1st Qu.: 77          1st Qu.:0.992  \n",
       " Median :0.047   Median : 29.0       Median :118          Median :0.995  \n",
       " Mean   :0.056   Mean   : 30.5       Mean   :116          Mean   :0.995  \n",
       " 3rd Qu.:0.065   3rd Qu.: 41.0       3rd Qu.:156          3rd Qu.:0.997  \n",
       " Max.   :0.611   Max.   :289.0       Max.   :440          Max.   :1.039  \n",
       "       pH         sulphates        alcohol      winetype       quality    \n",
       " Min.   :2.72   Min.   :0.220   Min.   : 8.0   red  :1599   Min.   :3.00  \n",
       " 1st Qu.:3.11   1st Qu.:0.430   1st Qu.: 9.5   white:4898   1st Qu.:5.00  \n",
       " Median :3.21   Median :0.510   Median :10.3                Median :6.00  \n",
       " Mean   :3.22   Mean   :0.531   Mean   :10.5                Mean   :5.82  \n",
       " 3rd Qu.:3.32   3rd Qu.:0.600   3rd Qu.:11.3                3rd Qu.:6.00  \n",
       " Max.   :4.01   Max.   :2.000   Max.   :14.9                Max.   :9.00  "
      ]
     },
     "metadata": {},
     "output_type": "display_data"
    }
   ],
   "source": [
    "# check first 3 rows\n",
    "head(wine,3)\n",
    "# check the structure\n",
    "str(wine)\n",
    "# check the descriptive statistics\n",
    "summary(wine)"
   ]
  },
  {
   "cell_type": "markdown",
   "metadata": {},
   "source": [
    "### Explanations:\n",
    "\n",
    "* Based on the basic information of this dataset, there are 6497 rows and 13 columns, 12 numeric variables and 1 categorical \n",
    "variable, winetype, but from the background of the dataset, it is about prediction of wine quality, so the wine quality should \n",
    "be factor, this will be changes in the further steps.\n"
   ]
  },
  {
   "cell_type": "markdown",
   "metadata": {},
   "source": [
    "### 2.2 Check duplicated rows and missing values"
   ]
  },
  {
   "cell_type": "code",
   "execution_count": 618,
   "metadata": {},
   "outputs": [
    {
     "data": {
      "text/html": [
       "1177"
      ],
      "text/latex": [
       "1177"
      ],
      "text/markdown": [
       "1177"
      ],
      "text/plain": [
       "[1] 1177"
      ]
     },
     "metadata": {},
     "output_type": "display_data"
    },
    {
     "data": {
      "text/html": [
       "0"
      ],
      "text/latex": [
       "0"
      ],
      "text/markdown": [
       "0"
      ],
      "text/plain": [
       "[1] 0"
      ]
     },
     "metadata": {},
     "output_type": "display_data"
    }
   ],
   "source": [
    "# check duplicated rows\n",
    "sum(duplicated(wine))\n",
    "# check misisng values\n",
    "sum(is.na(wine))"
   ]
  },
  {
   "cell_type": "markdown",
   "metadata": {},
   "source": [
    "### Explanations:\n",
    "\n",
    "* There are 1177 duplicated rows, which will be removed.\n",
    "\n",
    "* There is no missing values in this dataset."
   ]
  },
  {
   "cell_type": "code",
   "execution_count": 619,
   "metadata": {},
   "outputs": [
    {
     "name": "stdout",
     "output_type": "stream",
     "text": [
      "'data.frame':\t5320 obs. of  13 variables:\n",
      " $ fixed.acidity       : num  7.4 7.8 7.8 11.2 7.4 7.9 7.3 7.8 7.5 6.7 ...\n",
      " $ volatile.acidity    : num  0.7 0.88 0.76 0.28 0.66 0.6 0.65 0.58 0.5 0.58 ...\n",
      " $ citric.acid         : num  0 0 0.04 0.56 0 0.06 0 0.02 0.36 0.08 ...\n",
      " $ residual.sugar      : num  1.9 2.6 2.3 1.9 1.8 1.6 1.2 2 6.1 1.8 ...\n",
      " $ chlorides           : num  0.076 0.098 0.092 0.075 0.075 0.069 0.065 0.073 0.071 0.097 ...\n",
      " $ free.sulfur.dioxide : int  11 25 15 17 13 15 15 9 17 15 ...\n",
      " $ total.sulfur.dioxide: int  34 67 54 60 40 59 21 18 102 65 ...\n",
      " $ density             : num  0.998 0.997 0.997 0.998 0.998 ...\n",
      " $ pH                  : num  3.51 3.2 3.26 3.16 3.51 3.3 3.39 3.36 3.35 3.28 ...\n",
      " $ sulphates           : num  0.56 0.68 0.65 0.58 0.56 0.46 0.47 0.57 0.8 0.54 ...\n",
      " $ alcohol             : num  9.4 9.8 9.8 9.8 9.4 9.4 10 9.5 10.5 9.2 ...\n",
      " $ winetype            : Factor w/ 2 levels \"red\",\"white\": 1 1 1 1 1 1 1 1 1 1 ...\n",
      " $ quality             : int  5 5 5 6 5 5 7 7 5 5 ...\n"
     ]
    }
   ],
   "source": [
    "# remove duplicated rows\n",
    "wine1<-wine[!duplicated(wine),]\n",
    "# check the structure\n",
    "str(wine1)"
   ]
  },
  {
   "cell_type": "code",
   "execution_count": 620,
   "metadata": {},
   "outputs": [
    {
     "data": {
      "text/plain": [
       "\n",
       "   3    4    5    6    7    8    9 \n",
       "  30  206 1752 2323  856  148    5 "
      ]
     },
     "metadata": {},
     "output_type": "display_data"
    }
   ],
   "source": [
    "table(wine1$quality)"
   ]
  },
  {
   "cell_type": "markdown",
   "metadata": {},
   "source": [
    "### Explanations:\n",
    "\n",
    "* After removing the duplicated rows, there are 5320 rows left, 13 columns in the dataset.\n",
    "\n",
    "* For the target wine quality, there are 30 values of level 3, 206 of level 4, 1752 of level 5, 2323 of level 6, \n",
    "856 of level 7, 148 of level 8 and 5 of level 9. "
   ]
  },
  {
   "cell_type": "markdown",
   "metadata": {},
   "source": [
    "### 2.3 Recode the categorical variables"
   ]
  },
  {
   "cell_type": "code",
   "execution_count": 621,
   "metadata": {},
   "outputs": [
    {
     "data": {
      "text/plain": [
       "\n",
       "   0    1    2 \n",
       " 236 4075 1009 "
      ]
     },
     "metadata": {},
     "output_type": "display_data"
    }
   ],
   "source": [
    "# change quality to factor and recoding\n",
    "\n",
    "wine2<-wine1 # copy the dataset\n",
    "\n",
    "# recoding it, if the quality<5, make it as 0, means Low quality, if quality>6, make it as 2, means High quality\n",
    "# if it is 5 or 6, make it as 1, means medium quality\n",
    "wine2$quality<-ifelse(wine1$quality<5, 0,ifelse(wine1$quality>6, 2, 1))\n",
    "\n",
    "table(wine2$quality) # check the distribution"
   ]
  },
  {
   "cell_type": "code",
   "execution_count": 622,
   "metadata": {},
   "outputs": [],
   "source": [
    "# recode the winetype to 0 and 1\n",
    "wine2$winetype<-revalue(wine2$winetype,c(\"red\"=0,\"white\"=1))"
   ]
  },
  {
   "cell_type": "markdown",
   "metadata": {},
   "source": [
    "### Explanations:\n",
    "\n",
    "* The reason that I choose recode the quality as 0, Low quality if the level is less than 5 is based on the consumer habit and experience, when we do survey, the the level is lower than 5, we think it is poor or low quality, when the score is 5 or 6, we think it belongs to medium quality, when the score is higher than 6, we think  it belongs to high quality.\n",
    "\n",
    "* After recoding, there are 236 of 0, 4075 of 1 and 2 of 1009, which is highly inbalanced.\n",
    "\n",
    "* But regarding this is the real characteristic of the dataset, or it is the real distribution, I will keep it like this."
   ]
  },
  {
   "cell_type": "code",
   "execution_count": 623,
   "metadata": {},
   "outputs": [
    {
     "name": "stdout",
     "output_type": "stream",
     "text": [
      "'data.frame':\t5320 obs. of  13 variables:\n",
      " $ fixed.acidity       : num  7.4 7.8 7.8 11.2 7.4 7.9 7.3 7.8 7.5 6.7 ...\n",
      " $ volatile.acidity    : num  0.7 0.88 0.76 0.28 0.66 0.6 0.65 0.58 0.5 0.58 ...\n",
      " $ citric.acid         : num  0 0 0.04 0.56 0 0.06 0 0.02 0.36 0.08 ...\n",
      " $ residual.sugar      : num  1.9 2.6 2.3 1.9 1.8 1.6 1.2 2 6.1 1.8 ...\n",
      " $ chlorides           : num  0.076 0.098 0.092 0.075 0.075 0.069 0.065 0.073 0.071 0.097 ...\n",
      " $ free.sulfur.dioxide : int  11 25 15 17 13 15 15 9 17 15 ...\n",
      " $ total.sulfur.dioxide: int  34 67 54 60 40 59 21 18 102 65 ...\n",
      " $ density             : num  0.998 0.997 0.997 0.998 0.998 ...\n",
      " $ pH                  : num  3.51 3.2 3.26 3.16 3.51 3.3 3.39 3.36 3.35 3.28 ...\n",
      " $ sulphates           : num  0.56 0.68 0.65 0.58 0.56 0.46 0.47 0.57 0.8 0.54 ...\n",
      " $ alcohol             : num  9.4 9.8 9.8 9.8 9.4 9.4 10 9.5 10.5 9.2 ...\n",
      " $ winetype            : Factor w/ 2 levels \"0\",\"1\": 1 1 1 1 1 1 1 1 1 1 ...\n",
      " $ quality             : num  1 1 1 1 1 1 2 2 1 1 ...\n"
     ]
    }
   ],
   "source": [
    "# check structure\n",
    "str(wine2)"
   ]
  },
  {
   "cell_type": "code",
   "execution_count": 624,
   "metadata": {},
   "outputs": [
    {
     "name": "stdout",
     "output_type": "stream",
     "text": [
      "'data.frame':\t5320 obs. of  13 variables:\n",
      " $ fixed.acidity       : num  7.4 7.8 7.8 11.2 7.4 7.9 7.3 7.8 7.5 6.7 ...\n",
      " $ volatile.acidity    : num  0.7 0.88 0.76 0.28 0.66 0.6 0.65 0.58 0.5 0.58 ...\n",
      " $ citric.acid         : num  0 0 0.04 0.56 0 0.06 0 0.02 0.36 0.08 ...\n",
      " $ residual.sugar      : num  1.9 2.6 2.3 1.9 1.8 1.6 1.2 2 6.1 1.8 ...\n",
      " $ chlorides           : num  0.076 0.098 0.092 0.075 0.075 0.069 0.065 0.073 0.071 0.097 ...\n",
      " $ free.sulfur.dioxide : int  11 25 15 17 13 15 15 9 17 15 ...\n",
      " $ total.sulfur.dioxide: int  34 67 54 60 40 59 21 18 102 65 ...\n",
      " $ density             : num  0.998 0.997 0.997 0.998 0.998 ...\n",
      " $ pH                  : num  3.51 3.2 3.26 3.16 3.51 3.3 3.39 3.36 3.35 3.28 ...\n",
      " $ sulphates           : num  0.56 0.68 0.65 0.58 0.56 0.46 0.47 0.57 0.8 0.54 ...\n",
      " $ alcohol             : num  9.4 9.8 9.8 9.8 9.4 9.4 10 9.5 10.5 9.2 ...\n",
      " $ winetype            : Factor w/ 2 levels \"0\",\"1\": 1 1 1 1 1 1 1 1 1 1 ...\n",
      " $ quality             : Factor w/ 3 levels \"0\",\"1\",\"2\": 2 2 2 2 2 2 3 3 2 2 ...\n"
     ]
    }
   ],
   "source": [
    "# change quality to factor and ckeck the structure\n",
    "wine2$quality<-as.factor(wine2$quality)\n",
    "str(wine2)"
   ]
  },
  {
   "cell_type": "markdown",
   "metadata": {},
   "source": [
    "### Explanations:\n",
    "\n",
    "* After recoding and change the quality to factor, now the dataset has 2 factors, and the quality has 3 levels\n",
    "\n",
    "* Since in this dataset, most of the variables are numeric ones, it is essential to check the collinearity among these variables "
   ]
  },
  {
   "cell_type": "markdown",
   "metadata": {},
   "source": [
    "### 2.4 Check the Collinearity"
   ]
  },
  {
   "cell_type": "code",
   "execution_count": 625,
   "metadata": {},
   "outputs": [
    {
     "name": "stdout",
     "output_type": "stream",
     "text": [
      "Compare row 7  and column  6 with corr  0.72 \n",
      "  Means:  0.316 vs 0.24 so flagging column 7 \n",
      "Compare row 8  and column  11 with corr  0.668 \n",
      "  Means:  0.307 vs 0.229 so flagging column 8 \n",
      "All correlations <= 0.6 \n"
     ]
    },
    {
     "data": {
      "text/html": [
       "<ol class=list-inline>\n",
       "\t<li>7</li>\n",
       "\t<li>8</li>\n",
       "</ol>\n"
      ],
      "text/latex": [
       "\\begin{enumerate*}\n",
       "\\item 7\n",
       "\\item 8\n",
       "\\end{enumerate*}\n"
      ],
      "text/markdown": [
       "1. 7\n",
       "2. 8\n",
       "\n",
       "\n"
      ],
      "text/plain": [
       "[1] 7 8"
      ]
     },
     "metadata": {},
     "output_type": "display_data"
    },
    {
     "data": {
      "text/html": [
       "<dl>\n",
       "\t<dt>$linearCombos</dt>\n",
       "\t\t<dd><ol>\n",
       "</ol>\n",
       "</dd>\n",
       "\t<dt>$remove</dt>\n",
       "\t\t<dd>NULL</dd>\n",
       "</dl>\n"
      ],
      "text/latex": [
       "\\begin{description}\n",
       "\\item[\\$linearCombos] \\begin{enumerate}\n",
       "\\end{enumerate}\n",
       "\n",
       "\\item[\\$remove] NULL\n",
       "\\end{description}\n"
      ],
      "text/markdown": [
       "$linearCombos\n",
       ":   \n",
       "\n",
       "\n",
       "$remove\n",
       ":   NULL\n",
       "\n",
       "\n"
      ],
      "text/plain": [
       "$linearCombos\n",
       "list()\n",
       "\n",
       "$remove\n",
       "NULL\n"
      ]
     },
     "metadata": {},
     "output_type": "display_data"
    }
   ],
   "source": [
    "# check the colinearity\n",
    "findCorrelation(cor(wine2[,1:11]),cutoff=0.6,verbose=T) # check correlations\n",
    "findLinearCombos(cor(wine2[,1:11])) # check combined correlations"
   ]
  },
  {
   "cell_type": "code",
   "execution_count": 627,
   "metadata": {},
   "outputs": [
    {
     "data": {
      "image/png": "[encoded data removed]",
      "text/plain": [
       "Plot with title \"\""
      ]
     },
     "metadata": {},
     "output_type": "display_data"
    }
   ],
   "source": [
    "# set plot size to 4 x 4\n",
    "options(repr.plot.width=4, repr.plot.height=4)\n",
    "corrplot(cor(wine2[,1:11])) # check the correlation plot"
   ]
  },
  {
   "cell_type": "markdown",
   "metadata": {},
   "source": [
    "### Explanations:\n",
    "\n",
    "* From the correlations result, there are strong correlations between density and achohol, free.sulfur.dioxide and total.sulfur.dioxide, the total.sulfur.dioxide and density will be removed.\n",
    "\n",
    "* The other correlations are less than 0.6, which will be kept."
   ]
  },
  {
   "cell_type": "code",
   "execution_count": 628,
   "metadata": {},
   "outputs": [
    {
     "name": "stdout",
     "output_type": "stream",
     "text": [
      "'data.frame':\t5320 obs. of  11 variables:\n",
      " $ fixed.acidity      : num  7.4 7.8 7.8 11.2 7.4 7.9 7.3 7.8 7.5 6.7 ...\n",
      " $ volatile.acidity   : num  0.7 0.88 0.76 0.28 0.66 0.6 0.65 0.58 0.5 0.58 ...\n",
      " $ citric.acid        : num  0 0 0.04 0.56 0 0.06 0 0.02 0.36 0.08 ...\n",
      " $ residual.sugar     : num  1.9 2.6 2.3 1.9 1.8 1.6 1.2 2 6.1 1.8 ...\n",
      " $ chlorides          : num  0.076 0.098 0.092 0.075 0.075 0.069 0.065 0.073 0.071 0.097 ...\n",
      " $ free.sulfur.dioxide: int  11 25 15 17 13 15 15 9 17 15 ...\n",
      " $ pH                 : num  3.51 3.2 3.26 3.16 3.51 3.3 3.39 3.36 3.35 3.28 ...\n",
      " $ sulphates          : num  0.56 0.68 0.65 0.58 0.56 0.46 0.47 0.57 0.8 0.54 ...\n",
      " $ alcohol            : num  9.4 9.8 9.8 9.8 9.4 9.4 10 9.5 10.5 9.2 ...\n",
      " $ winetype           : Factor w/ 2 levels \"0\",\"1\": 1 1 1 1 1 1 1 1 1 1 ...\n",
      " $ quality            : Factor w/ 3 levels \"0\",\"1\",\"2\": 2 2 2 2 2 2 3 3 2 2 ...\n"
     ]
    }
   ],
   "source": [
    "# remove the density and total.sulfur.dioxide\n",
    "wine3<-subset(wine2,select=-c(density,total.sulfur.dioxide)) \n",
    "str(wine3) # check the structure"
   ]
  },
  {
   "cell_type": "markdown",
   "metadata": {},
   "source": [
    "### Explanations:\n",
    "\n",
    "* After removing the two variables, the dataset has 5320 rows and 11 variables."
   ]
  },
  {
   "cell_type": "markdown",
   "metadata": {},
   "source": [
    "### 2.5 Check the skewness"
   ]
  },
  {
   "cell_type": "code",
   "execution_count": 629,
   "metadata": {},
   "outputs": [
    {
     "data": {
      "text/html": [
       "<dl class=dl-horizontal>\n",
       "\t<dt>fixed.acidity</dt>\n",
       "\t\t<dd>1.64948661148745</dd>\n",
       "\t<dt>volatile.acidity</dt>\n",
       "\t\t<dd>1.50370887325618</dd>\n",
       "\t<dt>citric.acid</dt>\n",
       "\t\t<dd>0.48403595560898</dd>\n",
       "\t<dt>residual.sugar</dt>\n",
       "\t\t<dd>1.70558805070285</dd>\n",
       "\t<dt>chlorides</dt>\n",
       "\t\t<dd>5.33522705401975</dd>\n",
       "\t<dt>free.sulfur.dioxide</dt>\n",
       "\t\t<dd>1.36062707934291</dd>\n",
       "\t<dt>pH</dt>\n",
       "\t\t<dd>0.389749334451156</dd>\n",
       "\t<dt>sulphates</dt>\n",
       "\t\t<dd>1.80843353307571</dd>\n",
       "\t<dt>alcohol</dt>\n",
       "\t\t<dd>0.545388293605109</dd>\n",
       "</dl>\n"
      ],
      "text/latex": [
       "\\begin{description*}\n",
       "\\item[fixed.acidity] 1.64948661148745\n",
       "\\item[volatile.acidity] 1.50370887325618\n",
       "\\item[citric.acid] 0.48403595560898\n",
       "\\item[residual.sugar] 1.70558805070285\n",
       "\\item[chlorides] 5.33522705401975\n",
       "\\item[free.sulfur.dioxide] 1.36062707934291\n",
       "\\item[pH] 0.389749334451156\n",
       "\\item[sulphates] 1.80843353307571\n",
       "\\item[alcohol] 0.545388293605109\n",
       "\\end{description*}\n"
      ],
      "text/markdown": [
       "fixed.acidity\n",
       ":   1.64948661148745volatile.acidity\n",
       ":   1.50370887325618citric.acid\n",
       ":   0.48403595560898residual.sugar\n",
       ":   1.70558805070285chlorides\n",
       ":   5.33522705401975free.sulfur.dioxide\n",
       ":   1.36062707934291pH\n",
       ":   0.389749334451156sulphates\n",
       ":   1.80843353307571alcohol\n",
       ":   0.545388293605109\n",
       "\n"
      ],
      "text/plain": [
       "      fixed.acidity    volatile.acidity         citric.acid      residual.sugar \n",
       "             1.6495              1.5037              0.4840              1.7056 \n",
       "          chlorides free.sulfur.dioxide                  pH           sulphates \n",
       "             5.3352              1.3606              0.3897              1.8084 \n",
       "            alcohol \n",
       "             0.5454 "
      ]
     },
     "metadata": {},
     "output_type": "display_data"
    }
   ],
   "source": [
    "sapply(wine3[,1:9],function(x) skewness(x))"
   ]
  },
  {
   "cell_type": "code",
   "execution_count": 630,
   "metadata": {},
   "outputs": [
    {
     "data": {
      "text/plain": [
       " fixed.acidity   volatile.acidity  citric.acid    residual.sugar \n",
       " Min.   : 3.80   Min.   :0.080    Min.   :0.000   Min.   : 0.60  \n",
       " 1st Qu.: 6.40   1st Qu.:0.230    1st Qu.:0.240   1st Qu.: 1.80  \n",
       " Median : 7.00   Median :0.300    Median :0.310   Median : 2.70  \n",
       " Mean   : 7.21   Mean   :0.344    Mean   :0.318   Mean   : 5.05  \n",
       " 3rd Qu.: 7.70   3rd Qu.:0.410    3rd Qu.:0.400   3rd Qu.: 7.50  \n",
       " Max.   :15.90   Max.   :1.580    Max.   :1.660   Max.   :65.80  \n",
       "   chlorides      free.sulfur.dioxide       pH         sulphates    \n",
       " Min.   :0.0090   Min.   :  1         Min.   :2.72   Min.   :0.220  \n",
       " 1st Qu.:0.0380   1st Qu.: 16         1st Qu.:3.11   1st Qu.:0.430  \n",
       " Median :0.0470   Median : 28         Median :3.21   Median :0.510  \n",
       " Mean   :0.0567   Mean   : 30         Mean   :3.23   Mean   :0.533  \n",
       " 3rd Qu.:0.0660   3rd Qu.: 41         3rd Qu.:3.33   3rd Qu.:0.600  \n",
       " Max.   :0.6110   Max.   :289         Max.   :4.01   Max.   :2.000  \n",
       "    alcohol     winetype quality \n",
       " Min.   : 8.0   0:1359   0: 236  \n",
       " 1st Qu.: 9.5   1:3961   1:4075  \n",
       " Median :10.4            2:1009  \n",
       " Mean   :10.5                    \n",
       " 3rd Qu.:11.4                    \n",
       " Max.   :14.9                    "
      ]
     },
     "metadata": {},
     "output_type": "display_data"
    }
   ],
   "source": [
    "summary(wine3)"
   ]
  },
  {
   "cell_type": "markdown",
   "metadata": {},
   "source": [
    "### Explanations:\n",
    "\n",
    "* The skewness result shows some of the variables are highly skewed since the value are much bigger than 1,such as chlorides.\n",
    "\n",
    "* The ranges of the numeric variables have big difference, some are between 0 and 1,like chlorides, some are between 0 and 65.8, such as residual.sugar."
   ]
  },
  {
   "cell_type": "markdown",
   "metadata": {},
   "source": [
    "### 2.6 Data visualization with univariate plots"
   ]
  },
  {
   "cell_type": "code",
   "execution_count": 634,
   "metadata": {
    "scrolled": false
   },
   "outputs": [
    {
     "data": {
      "image/png": "[encoded data removed]",
      "text/plain": [
       "plot without title"
      ]
     },
     "metadata": {},
     "output_type": "display_data"
    },
    {
     "data": {
      "image/png": "[encoded data removed]",
      "text/plain": [
       "plot without title"
      ]
     },
     "metadata": {},
     "output_type": "display_data"
    }
   ],
   "source": [
    "# check the distribution of numeric variables\n",
    "# set plot size to 12 x 10\n",
    "options(repr.plot.width=12, repr.plot.height=10)\n",
    "\n",
    "par(mfrow=c(2,2)) # set the layout of the plots\n",
    "\n",
    "# plot the \"fixed.acidity\",\"alcohol\" on a boxplot because their ranges are close\n",
    "boxplot(wine3[,c(\"fixed.acidity\",\"alcohol\")]) \n",
    "\n",
    "# plot the \"volatile.acidity\",\"citric.acid\",\"sulphates\"on a boxplot because their ranges are close\n",
    "boxplot(wine3[,c(\"volatile.acidity\",\"citric.acid\",\"sulphates\")])\n",
    "\n",
    "# plot the \"residual.sugar\"\n",
    "boxplot(wine3[,c(\"residual.sugar\")],xlab=\"residual.sugar\")\n",
    "\n",
    "# plot the \"chlorides\"\n",
    "boxplot(wine3[,c(\"chlorides\")],xlab=\"chlorides\")\n",
    "\n",
    "# plot the \"free.sulfur.dioxide\"\n",
    "boxplot(wine3[,\"free.sulfur.dioxide\"],xlab=\"free.sulfur.dioxide\")\n",
    "\n",
    "# plot the \"pH\"\n",
    "boxplot(wine3[,c(\"pH\")],xlab=\"pH\")\n",
    "\n",
    "# plot the \"winetype\"\n",
    "plot(wine3[,c(\"winetype\")])"
   ]
  },
  {
   "cell_type": "markdown",
   "metadata": {},
   "source": [
    "### Explanations:\n",
    "\n",
    "* The variables are in different ranges, the ones with similar range are plotted in the same boxplot in order to avoid too many plots and this will be easier to visualize;\n",
    "* From the plot, achohol only has one outlier, whereas all the other variables have many outliers.\n",
    "* In the bar plot, white wine has more sample than white wine in this dataset. "
   ]
  },
  {
   "cell_type": "markdown",
   "metadata": {},
   "source": [
    "### 2.7 Data visualization with bivariate plots"
   ]
  },
  {
   "cell_type": "code",
   "execution_count": 636,
   "metadata": {
    "scrolled": false
   },
   "outputs": [
    {
     "data": {
      "image/png": "[encoded data removed]",
      "text/plain": [
       "Plot with title \"alcohol vs quality\""
      ]
     },
     "metadata": {},
     "output_type": "display_data"
    }
   ],
   "source": [
    "# set plot size to 15 x 12\n",
    "options(repr.plot.width=15, repr.plot.height=15)\n",
    "# check the bivariate plot between quality and the independent variables\n",
    "par(mfrow=c(3,3)) # set the layout of the plots\n",
    "\n",
    "# fixed.acidity vs quality\n",
    "boxplot(fixed.acidity~quality,data=wine3, main=\"fixed.acidity vs quality\", xlab=\"quality\", ylab=\"fixed.acidity\") \n",
    "\n",
    "# volatile.acidity vs quality\n",
    "boxplot(volatile.acidity~quality,data=wine3, main=\"volatile.acidity vs quality\", xlab=\"quality\", ylab=\"volatile.acidity\")\n",
    "\n",
    "# citric.acid vs quality\n",
    "boxplot(citric.acid~quality,data=wine3, main=\"citric.acid vs quality\", xlab=\"quality\", ylab=\"citric.acid\")\n",
    "\n",
    "# residual.sugar vs quality\n",
    "boxplot(residual.sugar~quality,data=wine3, main=\"residual.sugar vs quality\", xlab=\"quality\", ylab=\"residual.sugar\")\n",
    "\n",
    "# chlorides vs quality\n",
    "boxplot(chlorides~quality,data=wine3, main=\"chlorides vs quality\", xlab=\"quality\", ylab=\"chlorides\")\n",
    "\n",
    "# free.sulfur.dioxide vs quality\n",
    "boxplot(free.sulfur.dioxide~quality,data=wine3, main=\"free.sulfur.dioxide vs quality\", xlab=\"quality\",\n",
    "        ylab=\"free.sulfur.dioxide\")\n",
    "\n",
    "# pH vs quality\n",
    "boxplot(pH~quality,data=wine3, main=\"pH vs quality\", xlab=\"quality\", ylab=\"pH\")\n",
    "\n",
    "# sulphates vs quality\n",
    "boxplot(sulphates~quality,data=wine3, main=\"sulphates vs quality\", xlab=\"quality\", ylab=\"sulphates\")\n",
    "\n",
    "# alcohol vs quality\n",
    "boxplot(alcohol~quality,data=wine3, main=\"alcohol vs quality\", xlab=\"quality\", ylab=\"alcohol\")"
   ]
  },
  {
   "cell_type": "code",
   "execution_count": 637,
   "metadata": {},
   "outputs": [
    {
     "data": {
      "image/png": "[encoded data removed]",
      "text/plain": [
       "plot without title"
      ]
     },
     "metadata": {},
     "output_type": "display_data"
    }
   ],
   "source": [
    "# set plot size to 3 x 3\n",
    "options(repr.plot.width=3, repr.plot.height=3)\n",
    "# Winetype vs quality\n",
    "ggplot(data=wine3,aes(x=winetype,fill=quality))+  # set x, fill\n",
    "  geom_bar(position=\"fill\")+   # choose barplot and set the position\n",
    "  ggtitle(\"Winetype vs quality\")+ # add title\n",
    "  theme_classic() # blank background"
   ]
  },
  {
   "cell_type": "markdown",
   "metadata": {},
   "source": [
    "### Explanations:\n",
    "\n",
    "* The aboved plots shows the target quality and other independent variables;\n",
    "* From the plots, Low quality (0) wine has higher fixed.acidity, volatitle.acidity and chlorides, but lower citric acid,and\n",
    "free.sulfur.dioxide, the Medium(1) and High quality(2) does not have big difference in these variables.\n",
    "* For the achohol, quality 2 is higher, 0 and 1 are similar;\n",
    "* For the residual.suger,  1 is higher, no big difference in 0 and 2;\n",
    "* For pH, 1 is lower and the other two have no big difference;\n",
    "* For sulphates, there is no big difference in the three levels of quality;\n",
    "* More High quality 2 in white wine and more medium quality 1 and low quality 0 in red wine."
   ]
  },
  {
   "cell_type": "markdown",
   "metadata": {},
   "source": [
    "## 3. Data preparation"
   ]
  },
  {
   "cell_type": "markdown",
   "metadata": {},
   "source": [
    "### 3.1 Data transformation"
   ]
  },
  {
   "cell_type": "markdown",
   "metadata": {},
   "source": [
    "* Based on the previous exporation, the dataset has the following problems: values are not in the same range; many outliers and skewness.\n",
    "* Next I will do Boxcox transformation, standardization and scaling"
   ]
  },
  {
   "cell_type": "code",
   "execution_count": 638,
   "metadata": {},
   "outputs": [],
   "source": [
    "# Standardize the variables and do BoxCox transformation to reduce the skewness\n",
    "range<-preProcess(wine3[,1:9],method=c(\"center\",\"scale\",\"BoxCox\"))\n",
    "wine4<-cbind(predict(range,wine3[,1:9]),\"winetype\"=wine3$winetype,\"quality\"=wine3$quality)"
   ]
  },
  {
   "cell_type": "code",
   "execution_count": 639,
   "metadata": {},
   "outputs": [
    {
     "data": {
      "text/plain": [
       " fixed.acidity    volatile.acidity  citric.acid     residual.sugar  \n",
       " Min.   :-5.917   Min.   :-3.759   Min.   :-2.164   Min.   :-2.108  \n",
       " 1st Qu.:-0.593   1st Qu.:-0.653   1st Qu.:-0.533   1st Qu.:-0.800  \n",
       " Median : 0.011   Median :-0.014   Median :-0.058   Median :-0.318  \n",
       " Mean   : 0.000   Mean   : 0.000   Mean   : 0.000   Mean   : 0.000  \n",
       " 3rd Qu.: 0.581   3rd Qu.: 0.674   3rd Qu.: 0.554   3rd Qu.: 0.898  \n",
       " Max.   : 3.217   Max.   : 3.005   Max.   : 9.116   Max.   : 3.482  \n",
       "   chlorides      free.sulfur.dioxide       pH           sulphates     \n",
       " Min.   :-6.371   Min.   :-2.862      Min.   :-3.870   Min.   :-3.926  \n",
       " 1st Qu.:-0.613   1st Qu.:-0.728      1st Qu.:-0.693   1st Qu.:-0.685  \n",
       " Median :-0.063   Median : 0.070      Median :-0.031   Median : 0.011  \n",
       " Mean   : 0.000   Mean   : 0.000      Mean   : 0.000   Mean   : 0.000  \n",
       " 3rd Qu.: 0.703   3rd Qu.: 0.727      3rd Qu.: 0.698   3rd Qu.: 0.631  \n",
       " Max.   : 3.483   Max.   : 6.219      Max.   : 3.832   Max.   : 4.158  \n",
       "    alcohol        winetype quality \n",
       " Min.   :-3.0741   0:1359   0: 236  \n",
       " 1st Qu.:-0.8967   1:3961   1:4075  \n",
       " Median : 0.0185            2:1009  \n",
       " Mean   : 0.0000                    \n",
       " 3rd Qu.: 0.8135                    \n",
       " Max.   : 2.5347                    "
      ]
     },
     "metadata": {},
     "output_type": "display_data"
    }
   ],
   "source": [
    "# check the summary\n",
    "summary(wine4)"
   ]
  },
  {
   "cell_type": "code",
   "execution_count": 640,
   "metadata": {},
   "outputs": [
    {
     "data": {
      "text/html": [
       "<dl class=dl-horizontal>\n",
       "\t<dt>fixed.acidity</dt>\n",
       "\t\t<dd>-0.0822761957155474</dd>\n",
       "\t<dt>volatile.acidity</dt>\n",
       "\t\t<dd>-0.010035734465573</dd>\n",
       "\t<dt>citric.acid</dt>\n",
       "\t\t<dd>0.48403595560898</dd>\n",
       "\t<dt>residual.sugar</dt>\n",
       "\t\t<dd>0.326289961688402</dd>\n",
       "\t<dt>chlorides</dt>\n",
       "\t\t<dd>-0.0959458072347272</dd>\n",
       "\t<dt>free.sulfur.dioxide</dt>\n",
       "\t\t<dd>-0.0977579356082202</dd>\n",
       "\t<dt>pH</dt>\n",
       "\t\t<dd>-0.00924258903930881</dd>\n",
       "\t<dt>sulphates</dt>\n",
       "\t\t<dd>0.0207778699399509</dd>\n",
       "\t<dt>alcohol</dt>\n",
       "\t\t<dd>0.0593147535073641</dd>\n",
       "</dl>\n"
      ],
      "text/latex": [
       "\\begin{description*}\n",
       "\\item[fixed.acidity] -0.0822761957155474\n",
       "\\item[volatile.acidity] -0.010035734465573\n",
       "\\item[citric.acid] 0.48403595560898\n",
       "\\item[residual.sugar] 0.326289961688402\n",
       "\\item[chlorides] -0.0959458072347272\n",
       "\\item[free.sulfur.dioxide] -0.0977579356082202\n",
       "\\item[pH] -0.00924258903930881\n",
       "\\item[sulphates] 0.0207778699399509\n",
       "\\item[alcohol] 0.0593147535073641\n",
       "\\end{description*}\n"
      ],
      "text/markdown": [
       "fixed.acidity\n",
       ":   -0.0822761957155474volatile.acidity\n",
       ":   -0.010035734465573citric.acid\n",
       ":   0.48403595560898residual.sugar\n",
       ":   0.326289961688402chlorides\n",
       ":   -0.0959458072347272free.sulfur.dioxide\n",
       ":   -0.0977579356082202pH\n",
       ":   -0.00924258903930881sulphates\n",
       ":   0.0207778699399509alcohol\n",
       ":   0.0593147535073641\n",
       "\n"
      ],
      "text/plain": [
       "      fixed.acidity    volatile.acidity         citric.acid      residual.sugar \n",
       "          -0.082276           -0.010036            0.484036            0.326290 \n",
       "          chlorides free.sulfur.dioxide                  pH           sulphates \n",
       "          -0.095946           -0.097758           -0.009243            0.020778 \n",
       "            alcohol \n",
       "           0.059315 "
      ]
     },
     "metadata": {},
     "output_type": "display_data"
    }
   ],
   "source": [
    "# check the skewness of numeric variables\n",
    "sapply(wine4[,1:9],function(x) skewness(x))"
   ]
  },
  {
   "cell_type": "code",
   "execution_count": 641,
   "metadata": {},
   "outputs": [],
   "source": [
    "# Scaling the numeric valiables\n",
    "scale<-preProcess(wine4[,1:9],method=c(\"range\"))\n",
    "wine4_2<-cbind(predict(scale,wine4[,1:9]),\"winetype\"=wine4$winetype,\"quality\"=wine4$quality)"
   ]
  },
  {
   "cell_type": "code",
   "execution_count": 642,
   "metadata": {},
   "outputs": [
    {
     "data": {
      "text/plain": [
       " fixed.acidity   volatile.acidity  citric.acid    residual.sugar \n",
       " Min.   :0.000   Min.   :0.000    Min.   :0.000   Min.   :0.000  \n",
       " 1st Qu.:0.583   1st Qu.:0.459    1st Qu.:0.145   1st Qu.:0.234  \n",
       " Median :0.649   Median :0.553    Median :0.187   Median :0.320  \n",
       " Mean   :0.648   Mean   :0.556    Mean   :0.192   Mean   :0.377  \n",
       " 3rd Qu.:0.711   3rd Qu.:0.655    3rd Qu.:0.241   3rd Qu.:0.538  \n",
       " Max.   :1.000   Max.   :1.000    Max.   :1.000   Max.   :1.000  \n",
       "   chlorides     free.sulfur.dioxide       pH          sulphates    \n",
       " Min.   :0.000   Min.   :0.000       Min.   :0.000   Min.   :0.000  \n",
       " 1st Qu.:0.584   1st Qu.:0.235       1st Qu.:0.412   1st Qu.:0.401  \n",
       " Median :0.640   Median :0.323       Median :0.498   Median :0.487  \n",
       " Mean   :0.646   Mean   :0.315       Mean   :0.502   Mean   :0.486  \n",
       " 3rd Qu.:0.718   3rd Qu.:0.395       3rd Qu.:0.593   3rd Qu.:0.564  \n",
       " Max.   :1.000   Max.   :1.000       Max.   :1.000   Max.   :1.000  \n",
       "    alcohol      winetype quality \n",
       " Min.   :0.000   0:1359   0: 236  \n",
       " 1st Qu.:0.388   1:3961   1:4075  \n",
       " Median :0.551            2:1009  \n",
       " Mean   :0.548                    \n",
       " 3rd Qu.:0.693                    \n",
       " Max.   :1.000                    "
      ]
     },
     "metadata": {},
     "output_type": "display_data"
    }
   ],
   "source": [
    "# check the summary\n",
    "summary(wine4_2)"
   ]
  },
  {
   "cell_type": "markdown",
   "metadata": {},
   "source": [
    "### Explanations:\n",
    "\n",
    "* After standardization, the numeric variables are with mean of 0 and standard deviation of 1.\n",
    "* After the BoxCox transformation, the skewness are reduced and now all absolute values of the skewness of the numeric variables are less than 1.\n",
    "* Now after the scaling, the values of all numeric variables are in the same range, between 0 and 1."
   ]
  },
  {
   "cell_type": "markdown",
   "metadata": {},
   "source": [
    "###  Check the distribution of numeric variables before and after transformation\n",
    "\n",
    "#### Histogram"
   ]
  },
  {
   "cell_type": "code",
   "execution_count": 643,
   "metadata": {
    "scrolled": false
   },
   "outputs": [
    {
     "data": {
      "image/png": "[encoded data removed]",
      "text/plain": [
       "Plot with title \"VA after transformation\""
      ]
     },
     "metadata": {},
     "output_type": "display_data"
    },
    {
     "data": {
      "image/png": "[encoded data removed]",
      "text/plain": [
       "Plot with title \"RS after transformation\""
      ]
     },
     "metadata": {},
     "output_type": "display_data"
    }
   ],
   "source": [
    "# set plot size to 5x 6\n",
    "options(repr.plot.width=5, repr.plot.height=6)\n",
    "\n",
    "par(mfrow=c(2,2)) # set the layout of the plots\n",
    "\n",
    "# check the distribution\n",
    "hist(wine3$fixed.acidity, xlab=\"fixed.acidity\",main=\"FA before transformation\")\n",
    "hist(wine4_2$fixed.acidity, xlab=\"fixed.acidity\",main=\"FA after transformation\")\n",
    "\n",
    "hist(wine3$volatile.acidity, xlab=\"volatile.acidity\",main=\"VA before transformation\")\n",
    "hist(wine4_2$volatile.acidity, xlab=\"volatile.acidity\",main=\"VA after transformation\")\n",
    "\n",
    "hist(wine3$citric.acid, xlab=\"citric.acid\",main=\"CA before transformation\")\n",
    "hist(wine4_2$citric.acid, xlab=\"citric.acid\",main=\"CA after transformation\")\n",
    "\n",
    "hist(wine3$residual.sugar, xlab=\"residual.sugar\",main=\"RS before transformation\")\n",
    "hist(wine4_2$residual.sugar, xlab=\"residual.sugar\",main=\"RS after transformation\")\n"
   ]
  },
  {
   "cell_type": "code",
   "execution_count": 644,
   "metadata": {},
   "outputs": [
    {
     "data": {
      "image/png": "[encoded data removed]",
      "text/plain": [
       "Plot with title \"CL after transformation\""
      ]
     },
     "metadata": {},
     "output_type": "display_data"
    },
    {
     "data": {
      "image/png": "[encoded data removed]",
      "text/plain": [
       "Plot with title \"FSD after transformation\""
      ]
     },
     "metadata": {},
     "output_type": "display_data"
    }
   ],
   "source": [
    "# set plot size to 6x 3\n",
    "options(repr.plot.width=6, repr.plot.height=3)\n",
    "\n",
    "par(mfrow=c(1,2)) # set the layout of the plots\n",
    "\n",
    "# check the distribution\n",
    "hist(wine3$chlorides, xlab=\"chlorides\",main=\"CL before transformation\")\n",
    "hist(wine4_2$chlorides, xlab=\"chlorides\",main=\"CL after transformation\")\n",
    "\n",
    "hist(wine3$free.sulfur.dioxid, xlab=\"free.sulfur.dioxid\",main=\"FSD before transformation\")\n",
    "hist(wine4_2$free.sulfur.dioxid, xlab=\"free.sulfur.dioxid\",main=\"FSD after transformation\")"
   ]
  },
  {
   "cell_type": "code",
   "execution_count": 645,
   "metadata": {},
   "outputs": [
    {
     "data": {
      "image/png": "[encoded data removed]",
      "text/plain": [
       "Plot with title \"pH after transformation\""
      ]
     },
     "metadata": {},
     "output_type": "display_data"
    },
    {
     "data": {
      "image/png": "[encoded data removed]",
      "text/plain": [
       "Plot with title \"S after transformation\""
      ]
     },
     "metadata": {},
     "output_type": "display_data"
    }
   ],
   "source": [
    "# set plot size to 6x3\n",
    "options(repr.plot.width=6, repr.plot.height=3)\n",
    "\n",
    "par(mfrow=c(1,2)) # set the layout of the plots\n",
    "\n",
    "# check the distribution\n",
    "hist(wine3$pH, xlab=\"pH\",main=\"pH before transformation\")\n",
    "hist(wine4_2$pH, xlab=\"pH\",main=\"pH after transformation\")\n",
    "\n",
    "hist(wine3$sulphates, xlab=\"sulphates\",main=\"S before transformation\")\n",
    "hist(wine4_2$sulphates, xlab=\"sulphates\",main=\"S after transformation\")"
   ]
  },
  {
   "cell_type": "code",
   "execution_count": 646,
   "metadata": {},
   "outputs": [
    {
     "data": {
      "image/png": "[encoded data removed]",
      "text/plain": [
       "Plot with title \"AH after transformation\""
      ]
     },
     "metadata": {},
     "output_type": "display_data"
    }
   ],
   "source": [
    "# set plot size to 6x3\n",
    "options(repr.plot.width=6, repr.plot.height=3)\n",
    "\n",
    "# check the distribution\n",
    "par(mfrow=c(1,2)) # set the layout of the plots\n",
    "hist(wine3$alcohol, xlab=\"alcohol\",main=\"AH before transformation\")\n",
    "hist(wine4_2$alcohol, xlab=\"alcohol\",main=\"AH after transformation\")"
   ]
  },
  {
   "cell_type": "markdown",
   "metadata": {},
   "source": [
    "### Explanations:\n",
    "\n",
    "* From the histogram plots, after the transforamtion of BoxCox to remove the skewness, the standidization and scaling to between 0 to 1, the numeric variables are normally distributed and the value is between 0 and 1."
   ]
  },
  {
   "cell_type": "markdown",
   "metadata": {},
   "source": [
    "### Check the distribution of numeric variables before and after transformation\n",
    "\n",
    "#### Boxplot"
   ]
  },
  {
   "cell_type": "code",
   "execution_count": 647,
   "metadata": {
    "scrolled": false
   },
   "outputs": [
    {
     "data": {
      "image/png": "[encoded data removed]",
      "text/plain": [
       "Plot with title \"Set range as 3\""
      ]
     },
     "metadata": {},
     "output_type": "display_data"
    }
   ],
   "source": [
    "# check the distribution after scaling\n",
    "# set plot size to 12 x 8\n",
    "options(repr.plot.width=12, repr.plot.height=8)\n",
    "par(mfrow=c(2,1))\n",
    "\n",
    "boxplot(wine4_2[,1:9],main=\"Default range\") \n",
    "\n",
    "# set the range of the outlier as 3 since there are too many outliers, we should not remove all of them\n",
    "# here I set the threshhold of the outliers as 3 and will remove the outliers out of this range\n",
    "boxplot(wine4_2[,1:9],range=3, main=\"Set range as 3\") "
   ]
  },
  {
   "cell_type": "markdown",
   "metadata": {},
   "source": [
    "### Explanations:\n",
    "\n",
    "* After scaling, now all the variables are between 0 and 1.\n",
    "\n",
    "* Based on the first plot with default range(1.5IQR), they are many outliers, it is impossible to remove all of them since we will lose a lot of information, so I selected the threshold of the outliers as 3IQR and will remove them based on the range. \n"
   ]
  },
  {
   "cell_type": "markdown",
   "metadata": {},
   "source": [
    "### 3.2  Handle the outliers"
   ]
  },
  {
   "cell_type": "code",
   "execution_count": 648,
   "metadata": {},
   "outputs": [
    {
     "data": {
      "text/html": [
       "18"
      ],
      "text/latex": [
       "18"
      ],
      "text/markdown": [
       "18"
      ],
      "text/plain": [
       "[1] 18"
      ]
     },
     "metadata": {},
     "output_type": "display_data"
    }
   ],
   "source": [
    "# extract the index of the outliers based on range=3\n",
    "# from the above plot, only 4 variables have outliers\n",
    "fa_out1<-which(wine4_2$fixed.acidity %in% boxplot(wine4_2$fixed.acidity,range=3,plot=F)$out)\n",
    "\n",
    "ca_out1<-which(wine4_2$citric.acid %in% boxplot(wine4_2$citric.acid,range=3,plot=F)$out)\n",
    "\n",
    "cl_out1<-which(wine4_2$chlorides %in% boxplot(wine4_2$chlorides,range=3,plot=F)$out)\n",
    "\n",
    "fsd_out1<-which(wine4_2$free.sulfur.dioxide %in% boxplot(wine4_2$free.sulfur.dioxide,range=3,plot=F)$out)\n",
    "\n",
    "# combine all the index of outlier to be removed and extract the unique values\n",
    "out_index1<-unique(c(fa_out1,ca_out1,sp_out1,cl_out1,fsd_out1))\n",
    "\n",
    "# check the number of outliers\n",
    "length(out_index1)"
   ]
  },
  {
   "cell_type": "code",
   "execution_count": 649,
   "metadata": {},
   "outputs": [
    {
     "name": "stdout",
     "output_type": "stream",
     "text": [
      "'data.frame':\t5302 obs. of  11 variables:\n",
      " $ fixed.acidity      : num  0.686 0.719 0.719 0.894 0.686 ...\n",
      " $ volatile.acidity   : num  0.809 0.867 0.83 0.53 0.793 ...\n",
      " $ citric.acid        : num  0 0 0.0241 0.3373 0 ...\n",
      " $ residual.sugar     : num  0.245 0.312 0.286 0.245 0.234 ...\n",
      " $ chlorides          : num  0.746 0.793 0.782 0.744 0.744 ...\n",
      " $ free.sulfur.dioxide: num  0.186 0.303 0.226 0.244 0.207 ...\n",
      " $ pH                 : num  0.72 0.49 0.539 0.456 0.72 ...\n",
      " $ sulphates          : num  0.532 0.619 0.6 0.548 0.532 ...\n",
      " $ alcohol            : num  0.367 0.447 0.447 0.447 0.367 ...\n",
      " $ winetype           : Factor w/ 2 levels \"0\",\"1\": 1 1 1 1 1 1 1 1 1 1 ...\n",
      " $ quality            : Factor w/ 3 levels \"0\",\"1\",\"2\": 2 2 2 2 2 2 3 3 2 2 ...\n"
     ]
    },
    {
     "data": {
      "text/plain": [
       "\n",
       "   0    1    2 \n",
       " 233 4064 1005 "
      ]
     },
     "metadata": {},
     "output_type": "display_data"
    }
   ],
   "source": [
    "# exclude the outliers\n",
    "wine5<-wine4_2[-out_index1,]\n",
    "\n",
    "# check the structure\n",
    "str(wine5)\n",
    "table(wine5$quality)"
   ]
  },
  {
   "cell_type": "markdown",
   "metadata": {},
   "source": [
    "### Explanations:\n",
    "\n",
    "* Only 18 outliers were removed and after removing the outliers, dataset has 5302 rows and 11 columns.\n",
    "\n",
    "* There are 233 of 0, 4064 of 1 and 1005 of 2, which is imbalanced, but it is the real characteristic of the data,\n",
    "I will keep it like this. If I resample, the total sample number will become much less since the class 0 has only 233 samples, and it will influence the result significantly."
   ]
  },
  {
   "cell_type": "markdown",
   "metadata": {},
   "source": [
    "### 3.3 Split the data"
   ]
  },
  {
   "cell_type": "code",
   "execution_count": 650,
   "metadata": {},
   "outputs": [],
   "source": [
    "# split the data into train and test set\n",
    "set.seed(112233) # set random seed\n",
    "train_index<-createDataPartition(wine5$quality,p=0.7,list=F) # split\n",
    "wine_train<-wine5[train_index,] # extract training set\n",
    "wine_test<-wine5[-train_index,] # extract testing set"
   ]
  },
  {
   "cell_type": "code",
   "execution_count": null,
   "metadata": {},
   "outputs": [],
   "source": [
    "table(wine_train$quality) # balance of target for training set\n",
    "table(wine_test$quality) # balance of target for test set"
   ]
  },
  {
   "cell_type": "markdown",
   "metadata": {},
   "source": [
    "### Explanations:\n",
    "\n",
    "* After splitting, the training set and testing set include all the levels of the target, although they are imbalenced, it is the real characteristic of the statistics in real life, I will keep them for future modelling. "
   ]
  },
  {
   "cell_type": "markdown",
   "metadata": {},
   "source": [
    "## 4. Model fitting and evaluation\n",
    "### 4.1 Model 1---Model C50"
   ]
  },
  {
   "cell_type": "code",
   "execution_count": 651,
   "metadata": {
    "scrolled": false
   },
   "outputs": [
    {
     "data": {
      "text/plain": [
       "\n",
       "Call:\n",
       "C5.0.default(x = wine_train[, -11], y = wine_train[, 11])\n",
       "\n",
       "\n",
       "C5.0 [Release 2.07 GPL Edition]  \tSun Mar 01 19:38:57 2020\n",
       "-------------------------------\n",
       "\n",
       "Class specified by attribute `outcome'\n",
       "\n",
       "Read 3713 cases (11 attributes) from undefined.data\n",
       "\n",
       "Decision tree:\n",
       "\n",
       "alcohol <= 0.582638:\n",
       ":...volatile.acidity <= 0.4426254: 1 (438/76)\n",
       ":   volatile.acidity > 0.4426254:\n",
       ":   :...volatile.acidity <= 0.7600499: 1 (1412/136)\n",
       ":       volatile.acidity > 0.7600499:\n",
       ":       :...winetype = 0:\n",
       ":           :...residual.sugar > 0.2088006: 1 (228/13)\n",
       ":           :   residual.sugar <= 0.2088006:\n",
       ":           :   :...alcohol > 0.489661: 0 (4)\n",
       ":           :       alcohol <= 0.489661:\n",
       ":           :       :...sulphates <= 0.7026565: 1 (19/3)\n",
       ":           :           sulphates > 0.7026565: 0 (2)\n",
       ":           winetype = 1:\n",
       ":           :...sulphates > 0.5481117: 0 (5)\n",
       ":               sulphates <= 0.5481117:\n",
       ":               :...alcohol > 0.5184585: 0 (3)\n",
       ":                   alcohol <= 0.5184585:\n",
       ":                   :...chlorides <= 0.6347066: 1 (10)\n",
       ":                       chlorides > 0.6347066:\n",
       ":                       :...chlorides <= 0.7240754: 0 (9/2)\n",
       ":                           chlorides > 0.7240754: 1 (7)\n",
       "alcohol > 0.582638:\n",
       ":...volatile.acidity > 0.752767:\n",
       "    :...volatile.acidity > 0.9007258:\n",
       "    :   :...residual.sugar <= 0.2338744: 1 (2)\n",
       "    :   :   residual.sugar > 0.2338744: 0 (8)\n",
       "    :   volatile.acidity <= 0.9007258:\n",
       "    :   :...alcohol <= 0.7739865: 1 (87/14)\n",
       "    :       alcohol > 0.7739865:\n",
       "    :       :...volatile.acidity <= 0.8450689: 1 (30/8)\n",
       "    :           volatile.acidity > 0.8450689: 2 (4)\n",
       "    volatile.acidity <= 0.752767:\n",
       "    :...alcohol <= 0.7351853:\n",
       "        :...citric.acid <= 0.1325301:\n",
       "        :   :...chlorides > 0.7741559: 2 (5/2)\n",
       "        :   :   chlorides <= 0.7741559:\n",
       "        :   :   :...free.sulfur.dioxide > 0.1748601: 1 (54/5)\n",
       "        :   :       free.sulfur.dioxide <= 0.1748601:\n",
       "        :   :       :...winetype = 0: 1 (8/1)\n",
       "        :   :           winetype = 1:\n",
       "        :   :           :...alcohol <= 0.637834: 1 (2)\n",
       "        :   :               alcohol > 0.637834: 0 (6)\n",
       "        :   citric.acid > 0.1325301:\n",
       "        :   :...volatile.acidity <= 0.3864959:\n",
       "        :       :...volatile.acidity > 0.2291995: 1 (138/52)\n",
       "        :       :   volatile.acidity <= 0.2291995:\n",
       "        :       :   :...pH <= 0.3669335: 1 (5/1)\n",
       "        :       :       pH > 0.3669335: 2 (12/1)\n",
       "        :       volatile.acidity > 0.3864959:\n",
       "        :       :...free.sulfur.dioxide <= 0.1045138:\n",
       "        :           :...sulphates <= 0.3886405: 0 (5/1)\n",
       "        :           :   sulphates > 0.3886405:\n",
       "        :           :   :...volatile.acidity > 0.6049446: 1 (10/1)\n",
       "        :           :       volatile.acidity <= 0.6049446:\n",
       "        :           :       :...winetype = 0: 2 (6/1)\n",
       "        :           :           winetype = 1: 1 (2)\n",
       "        :           free.sulfur.dioxide > 0.1045138:\n",
       "        :           :...sulphates <= 0.6380325: 1 (472/128)\n",
       "        :               sulphates > 0.6380325:\n",
       "        :               :...free.sulfur.dioxide > 0.4098187: 2 (4)\n",
       "        :                   free.sulfur.dioxide <= 0.4098187:\n",
       "        :                   :...winetype = 0:\n",
       "        :                       :...alcohol <= 0.7055014: 1 (50/20)\n",
       "        :                       :   alcohol > 0.7055014: 2 (5)\n",
       "        :                       winetype = 1:\n",
       "        :                       :...chlorides <= 0.4552526: 2 (2)\n",
       "        :                           chlorides > 0.4552526: 1 (11/1)\n",
       "        alcohol > 0.7351853:\n",
       "        :...pH <= 0.2799728: 1 (31/5)\n",
       "            pH > 0.2799728:\n",
       "            :...alcohol > 0.838532:\n",
       "                :...chlorides > 0.7515275: 1 (5)\n",
       "                :   chlorides <= 0.7515275:\n",
       "                :   :...volatile.acidity <= 0.7209326: 2 (135/33)\n",
       "                :       volatile.acidity > 0.7209326: 1 (6/2)\n",
       "                alcohol <= 0.838532:\n",
       "                :...residual.sugar > 0.4265573:\n",
       "                    :...winetype = 0: 2 (13/2)\n",
       "                    :   winetype = 1:\n",
       "                    :   :...citric.acid > 0.2771084:\n",
       "                    :       :...citric.acid <= 0.2891566: 0 (2)\n",
       "                    :       :   citric.acid > 0.2891566: 2 (9/1)\n",
       "                    :       citric.acid <= 0.2771084:\n",
       "                    :       :...sulphates > 0.5857602: 1 (12/1)\n",
       "                    :           sulphates <= 0.5857602:\n",
       "                    :           :...free.sulfur.dioxide <= 0.2752373: 1 (21/6)\n",
       "                    :               free.sulfur.dioxide > 0.2752373: 2 (96/29)\n",
       "                    residual.sugar <= 0.4265573:\n",
       "                    :...sulphates > 0.5481117: 2 (114/48)\n",
       "                        sulphates <= 0.5481117:\n",
       "                        :...alcohol <= 0.7739865:\n",
       "                            :...free.sulfur.dioxide <= 0.2070059: 1 (13/1)\n",
       "                            :   free.sulfur.dioxide > 0.2070059:\n",
       "                            :   :...fixed.acidity > 0.5828837: 2 (36/12)\n",
       "                            :       fixed.acidity <= 0.5828837:\n",
       "                            :       :...volatile.acidity > 0.6140844: 2 (3)\n",
       "                            :           volatile.acidity <= 0.6140844:\n",
       "                            :           :...free.sulfur.dioxide <= 0.2435553: 2 (2)\n",
       "                            :               free.sulfur.dioxide > 0.2435553: 1 (25/4)\n",
       "                            alcohol > 0.7739865:\n",
       "                            :...alcohol <= 0.8147776: 1 (82/14)\n",
       "                                alcohol > 0.8147776:\n",
       "                                :...chlorides > 0.6174413: 1 (10)\n",
       "                                    chlorides <= 0.6174413:\n",
       "                                    :...fixed.acidity > 0.5302547: 2 (20/6)\n",
       "                                        fixed.acidity <= 0.5302547:\n",
       "                                        :...pH <= 0.4035661: 2 (2)\n",
       "                                            pH > 0.4035661: 1 (11)\n",
       "\n",
       "\n",
       "Evaluation on training data (3713 cases):\n",
       "\n",
       "\t    Decision Tree   \n",
       "\t  ----------------  \n",
       "\t  Size      Errors  \n",
       "\n",
       "\t    55  630(17.0%)   <<\n",
       "\n",
       "\n",
       "\t   (a)   (b)   (c)    <-classified as\n",
       "\t  ----  ----  ----\n",
       "\t    41   121     2    (a): class 0\n",
       "\t     3  2709   133    (b): class 1\n",
       "\t         371   333    (c): class 2\n",
       "\n",
       "\n",
       "\tAttribute usage:\n",
       "\n",
       "\t100.00%\tvolatile.acidity\n",
       "\t100.00%\talcohol\n",
       "\t 28.79%\tsulphates\n",
       "\t 25.24%\tcitric.acid\n",
       "\t 22.43%\tfree.sulfur.dioxide\n",
       "\t 19.77%\tresidual.sugar\n",
       "\t 17.91%\tpH\n",
       "\t 14.33%\twinetype\n",
       "\t  8.16%\tchlorides\n",
       "\t  2.67%\tfixed.acidity\n",
       "\n",
       "\n",
       "Time: 0.0 secs\n"
      ]
     },
     "metadata": {},
     "output_type": "display_data"
    },
    {
     "data": {
      "image/png": "[encoded data removed]",
      "text/plain": [
       "plot without title"
      ]
     },
     "metadata": {},
     "output_type": "display_data"
    }
   ],
   "source": [
    "set.seed(112233) # set random seed\n",
    "C1_mod<-C5.0(wine_train[,-11], wine_train[,11]) # fit model using training set\n",
    "summary(C1_mod)  # check the summary of the data\n",
    "plot(C1_mod)   # plot the result"
   ]
  },
  {
   "cell_type": "code",
   "execution_count": 652,
   "metadata": {},
   "outputs": [
    {
     "name": "stdout",
     "output_type": "stream",
     "text": [
      "[1] \"train_accuracy_C1: \"\n"
     ]
    },
    {
     "data": {
      "text/html": [
       "0.830325882036089"
      ],
      "text/latex": [
       "0.830325882036089"
      ],
      "text/markdown": [
       "0.830325882036089"
      ],
      "text/plain": [
       "[1] 0.8303"
      ]
     },
     "metadata": {},
     "output_type": "display_data"
    }
   ],
   "source": [
    "# check the accuracy of the training set\n",
    "print(\"train_accuracy_C1: \")\n",
    "(train_accuracy_C1<-mean(predict(C1_mod,wine_train[,-11])==wine_train$quality)) # print the accuracy"
   ]
  },
  {
   "cell_type": "code",
   "execution_count": 653,
   "metadata": {},
   "outputs": [
    {
     "name": "stdout",
     "output_type": "stream",
     "text": [
      "[1] \"test_accuracy_C1: \"\n"
     ]
    },
    {
     "data": {
      "text/html": [
       "0.770295783511643"
      ],
      "text/latex": [
       "0.770295783511643"
      ],
      "text/markdown": [
       "0.770295783511643"
      ],
      "text/plain": [
       "[1] 0.7703"
      ]
     },
     "metadata": {},
     "output_type": "display_data"
    },
    {
     "data": {
      "text/plain": [
       "Confusion Matrix and Statistics\n",
       "\n",
       "          Reference\n",
       "Prediction    0    1    2\n",
       "         0    3    7    0\n",
       "         1   65 1120  200\n",
       "         2    1   92  101\n",
       "\n",
       "Overall Statistics\n",
       "                                        \n",
       "               Accuracy : 0.77          \n",
       "                 95% CI : (0.749, 0.791)\n",
       "    No Information Rate : 0.767         \n",
       "    P-Value [Acc > NIR] : 0.397         \n",
       "                                        \n",
       "                  Kappa : 0.254         \n",
       "                                        \n",
       " Mcnemar's Test P-Value : <2e-16        \n",
       "\n",
       "Statistics by Class:\n",
       "\n",
       "                     Class: 0 Class: 1 Class: 2\n",
       "Sensitivity           0.04348    0.919   0.3355\n",
       "Specificity           0.99539    0.284   0.9278\n",
       "Pos Pred Value        0.30000    0.809   0.5206\n",
       "Neg Pred Value        0.95820    0.515   0.8566\n",
       "Prevalence            0.04342    0.767   0.1894\n",
       "Detection Rate        0.00189    0.705   0.0636\n",
       "Detection Prevalence  0.00629    0.872   0.1221\n",
       "Balanced Accuracy     0.51944    0.601   0.6317"
      ]
     },
     "metadata": {},
     "output_type": "display_data"
    }
   ],
   "source": [
    "# make prediction using testing set and check the result\n",
    "pred1<-predict(C1_mod,wine_test) # make prediction for the testing set\n",
    "print(\"test_accuracy_C1: \")\n",
    "(test_accuracy_C1 <- mean(predict(C1_mod,wine_test) == wine_test$quality)) # print the accuracy\n",
    "confusionMatrix(pred1,wine_test$quality) # check the result"
   ]
  },
  {
   "cell_type": "markdown",
   "metadata": {},
   "source": [
    "### Explanations:\n",
    "\n",
    "* The acuracy of the traing set is 0.8303 and the testing set is 0.7703.\n",
    "\n",
    "* From the confusionMatrix, many class 2 are misclassified as class 1, I think the inbalance caused this since majority of the class is 1\n",
    "\n",
    "* The sensitivity for class 1 is highest, while the specificity for class 0 is highest, maybe beacause the class 1 has the most number and the class 0 has the least number."
   ]
  },
  {
   "cell_type": "markdown",
   "metadata": {},
   "source": [
    "### 4.2 Model 2-Neural network model"
   ]
  },
  {
   "cell_type": "code",
   "execution_count": 654,
   "metadata": {
    "scrolled": false
   },
   "outputs": [
    {
     "name": "stdout",
     "output_type": "stream",
     "text": [
      "# weights:  143\n",
      "initial  value 4926.416744 \n",
      "iter  10 value 2257.383325\n",
      "iter  20 value 1960.242590\n",
      "iter  30 value 1895.838161\n",
      "iter  40 value 1852.068287\n",
      "iter  50 value 1829.783625\n",
      "iter  60 value 1818.904145\n",
      "iter  70 value 1813.951948\n",
      "iter  80 value 1803.994555\n",
      "iter  90 value 1783.321992\n",
      "iter 100 value 1771.911034\n",
      "iter 110 value 1761.664653\n",
      "iter 120 value 1752.446941\n",
      "iter 130 value 1743.152421\n",
      "iter 140 value 1735.772908\n",
      "iter 150 value 1731.018146\n",
      "iter 160 value 1727.145615\n",
      "iter 170 value 1722.050239\n",
      "iter 180 value 1719.317039\n",
      "iter 190 value 1717.508933\n",
      "iter 200 value 1715.168311\n",
      "iter 210 value 1713.509587\n",
      "iter 220 value 1711.224341\n",
      "iter 230 value 1709.364616\n",
      "iter 240 value 1708.702666\n",
      "iter 250 value 1708.124979\n",
      "iter 260 value 1707.597684\n",
      "iter 270 value 1707.260149\n",
      "iter 280 value 1707.043327\n",
      "iter 290 value 1706.850201\n",
      "iter 300 value 1706.767256\n",
      "iter 310 value 1706.561615\n",
      "iter 320 value 1706.039098\n",
      "iter 330 value 1705.562938\n",
      "iter 340 value 1705.372133\n",
      "iter 350 value 1705.315207\n",
      "iter 360 value 1705.266190\n",
      "iter 370 value 1705.236499\n",
      "iter 380 value 1705.228634\n",
      "final  value 1705.227585 \n",
      "converged\n"
     ]
    }
   ],
   "source": [
    "set.seed(112233) # set random seed\n",
    "nnet_mod<-nnet(quality~.,data=wine_train,size=10,maxit=1000,decay=0.01) # fit the model"
   ]
  },
  {
   "cell_type": "code",
   "execution_count": 655,
   "metadata": {},
   "outputs": [
    {
     "name": "stdout",
     "output_type": "stream",
     "text": [
      "[1] \"train_accuracy_nt: \"\n"
     ]
    },
    {
     "data": {
      "text/html": [
       "0.80877996229464"
      ],
      "text/latex": [
       "0.80877996229464"
      ],
      "text/markdown": [
       "0.80877996229464"
      ],
      "text/plain": [
       "[1] 0.8088"
      ]
     },
     "metadata": {},
     "output_type": "display_data"
    }
   ],
   "source": [
    "# check the accuracy of the training set\n",
    "print(\"train_accuracy_nt: \")  # print the accuracy\n",
    "(train_accuracy_nt<-mean(as.factor(predict(nnet_mod,wine_train[,-11],type=\"class\"))==wine_train$quality)) "
   ]
  },
  {
   "cell_type": "code",
   "execution_count": 656,
   "metadata": {
    "scrolled": false
   },
   "outputs": [
    {
     "name": "stdout",
     "output_type": "stream",
     "text": [
      "[1] \"test_accuracy_nt: \"\n"
     ]
    },
    {
     "data": {
      "text/html": [
       "0.782252989301447"
      ],
      "text/latex": [
       "0.782252989301447"
      ],
      "text/markdown": [
       "0.782252989301447"
      ],
      "text/plain": [
       "[1] 0.7823"
      ]
     },
     "metadata": {},
     "output_type": "display_data"
    },
    {
     "data": {
      "text/plain": [
       "Confusion Matrix and Statistics\n",
       "\n",
       "          Reference\n",
       "Prediction    0    1    2\n",
       "         0    6   11    0\n",
       "         1   62 1136  200\n",
       "         2    1   72  101\n",
       "\n",
       "Overall Statistics\n",
       "                                        \n",
       "               Accuracy : 0.782         \n",
       "                 95% CI : (0.761, 0.802)\n",
       "    No Information Rate : 0.767         \n",
       "    P-Value [Acc > NIR] : 0.0807        \n",
       "                                        \n",
       "                  Kappa : 0.283         \n",
       "                                        \n",
       " Mcnemar's Test P-Value : <2e-16        \n",
       "\n",
       "Statistics by Class:\n",
       "\n",
       "                     Class: 0 Class: 1 Class: 2\n",
       "Sensitivity           0.08696    0.932   0.3355\n",
       "Specificity           0.99276    0.292   0.9433\n",
       "Pos Pred Value        0.35294    0.813   0.5805\n",
       "Neg Pred Value        0.95992    0.565   0.8587\n",
       "Prevalence            0.04342    0.767   0.1894\n",
       "Detection Rate        0.00378    0.715   0.0636\n",
       "Detection Prevalence  0.01070    0.880   0.1095\n",
       "Balanced Accuracy     0.53986    0.612   0.6394"
      ]
     },
     "metadata": {},
     "output_type": "display_data"
    }
   ],
   "source": [
    "# make prediction based on the testing set and check the accuracy\n",
    "pred2<-as.factor(predict(nnet_mod,wine_test,type=\"class\")) # prediction\n",
    "print(\"test_accuracy_nt: \")\n",
    "(test_accuracy_nt<-mean(pred2==wine_test$quality))  # print the accuracy\n",
    "confusionMatrix(pred2,wine_test$quality) # check the result"
   ]
  },
  {
   "cell_type": "markdown",
   "metadata": {},
   "source": [
    "### Explanations:\n",
    "\n",
    "* The neral network model got converged after 380 iterations at the learning rate of 0.01 with 10 nodes.\n",
    "\n",
    "* The neural network model got the accuracy for training dataset is 0.8088, whereas that of the testing dateset is 0.782.\n",
    "\n",
    "* The kappa is only 0.283, indicating the classification is not very good, maybe because the target levels are imbalanced, \n",
    "too many values in class 1 and too less values in class 0, but this is the sitiuation of real life, in which most of the \n",
    "wine quality is medium while few are in poor quality, therefore, to solve this problem, more data should be collected. \n",
    "That way, more number will be included in poor quality class 0."
   ]
  },
  {
   "cell_type": "markdown",
   "metadata": {},
   "source": [
    "### 4.3 Model 3---Naive Bayesian Model"
   ]
  },
  {
   "cell_type": "code",
   "execution_count": 657,
   "metadata": {},
   "outputs": [],
   "source": [
    "set.seed(112233)\n",
    "# fit model\n",
    "nb_mod<-naiveBayes(wine_train[,-11],wine_train[,11])"
   ]
  },
  {
   "cell_type": "code",
   "execution_count": 658,
   "metadata": {},
   "outputs": [
    {
     "name": "stdout",
     "output_type": "stream",
     "text": [
      "[1] \"train_accuracy_nb: \"\n"
     ]
    },
    {
     "data": {
      "text/html": [
       "0.747912739025047"
      ],
      "text/latex": [
       "0.747912739025047"
      ],
      "text/markdown": [
       "0.747912739025047"
      ],
      "text/plain": [
       "[1] 0.7479"
      ]
     },
     "metadata": {},
     "output_type": "display_data"
    }
   ],
   "source": [
    "# check the accuracy of the training set\n",
    "print(\"train_accuracy_nb: \")\n",
    "(train_accuracy_nb<-mean(predict(nb_mod,wine_train[,-11])==wine_train$quality)) # print the accuracy"
   ]
  },
  {
   "cell_type": "code",
   "execution_count": 659,
   "metadata": {
    "scrolled": false
   },
   "outputs": [
    {
     "name": "stdout",
     "output_type": "stream",
     "text": [
      "[1] \"test_accuracy_nb: \"\n"
     ]
    },
    {
     "data": {
      "text/html": [
       "0.757079924480806"
      ],
      "text/latex": [
       "0.757079924480806"
      ],
      "text/markdown": [
       "0.757079924480806"
      ],
      "text/plain": [
       "[1] 0.7571"
      ]
     },
     "metadata": {},
     "output_type": "display_data"
    },
    {
     "data": {
      "text/plain": [
       "Confusion Matrix and Statistics\n",
       "\n",
       "          Reference\n",
       "Prediction    0    1    2\n",
       "         0    4   22    0\n",
       "         1   58 1041  143\n",
       "         2    7  156  158\n",
       "\n",
       "Overall Statistics\n",
       "                                        \n",
       "               Accuracy : 0.757         \n",
       "                 95% CI : (0.735, 0.778)\n",
       "    No Information Rate : 0.767         \n",
       "    P-Value [Acc > NIR] : 0.836         \n",
       "                                        \n",
       "                  Kappa : 0.328         \n",
       "                                        \n",
       " Mcnemar's Test P-Value : 2.8e-05       \n",
       "\n",
       "Statistics by Class:\n",
       "\n",
       "                     Class: 0 Class: 1 Class: 2\n",
       "Sensitivity           0.05797    0.854   0.5249\n",
       "Specificity           0.98553    0.457   0.8734\n",
       "Pos Pred Value        0.15385    0.838   0.4922\n",
       "Neg Pred Value        0.95841    0.487   0.8872\n",
       "Prevalence            0.04342    0.767   0.1894\n",
       "Detection Rate        0.00252    0.655   0.0994\n",
       "Detection Prevalence  0.01636    0.782   0.2020\n",
       "Balanced Accuracy     0.52175    0.655   0.6992"
      ]
     },
     "metadata": {},
     "output_type": "display_data"
    }
   ],
   "source": [
    "# make prediction based on the testing set and check the accuracy\n",
    "pred3<-predict(nb_mod,wine_test[,-11])  # prediction\n",
    "print(\"test_accuracy_nb: \")\n",
    "(test_accuracy_nb<-mean(pred3==wine_test$quality)) # print the accuracy\n",
    "confusionMatrix(pred3,wine_test$quality) # check the result"
   ]
  },
  {
   "cell_type": "markdown",
   "metadata": {},
   "source": [
    "### Explanations:\n",
    "\n",
    "* The naiveBayesian model got a training accuracy of 0.7479, surprisingly, the testing accuracy is even higher than \n",
    "training set, 0.7571.\n",
    "\n",
    "* The naiveBayesian model is based on the theory that the variables are independent with each other, although in the data exploratory process, I have removed two variables which have correlation higher than 0.6 with other variables, the remaining variables are still not totally independent,such as the citric.acid and pH, they are somehow correlated since pH is the measurement of acidity. This can be explored further in the future study."
   ]
  },
  {
   "cell_type": "markdown",
   "metadata": {},
   "source": [
    "### 4.4 Summary of single models"
   ]
  },
  {
   "cell_type": "code",
   "execution_count": 660,
   "metadata": {},
   "outputs": [
    {
     "data": {
      "text/html": [
       "<table>\n",
       "<thead><tr><th></th><th scope=col>Train_acccurary</th><th scope=col>Test_accuracy</th></tr></thead>\n",
       "<tbody>\n",
       "\t<tr><th scope=row>C5.0</th><td>0.8303</td><td>0.7703</td></tr>\n",
       "\t<tr><th scope=row>nnet</th><td>0.8088</td><td>0.7823</td></tr>\n",
       "\t<tr><th scope=row>naiveBayes</th><td>0.7479</td><td>0.7571</td></tr>\n",
       "</tbody>\n",
       "</table>\n"
      ],
      "text/latex": [
       "\\begin{tabular}{r|ll}\n",
       "  & Train\\_acccurary & Test\\_accuracy\\\\\n",
       "\\hline\n",
       "\tC5.0 & 0.8303 & 0.7703\\\\\n",
       "\tnnet & 0.8088 & 0.7823\\\\\n",
       "\tnaiveBayes & 0.7479 & 0.7571\\\\\n",
       "\\end{tabular}\n"
      ],
      "text/markdown": [
       "\n",
       "| <!--/--> | Train_acccurary | Test_accuracy |\n",
       "|---|---|---|\n",
       "| C5.0 | 0.8303 | 0.7703 |\n",
       "| nnet | 0.8088 | 0.7823 |\n",
       "| naiveBayes | 0.7479 | 0.7571 |\n",
       "\n"
      ],
      "text/plain": [
       "           Train_acccurary Test_accuracy\n",
       "C5.0       0.8303          0.7703       \n",
       "nnet       0.8088          0.7823       \n",
       "naiveBayes 0.7479          0.7571       "
      ]
     },
     "metadata": {},
     "output_type": "display_data"
    }
   ],
   "source": [
    "# set the digits as 4\n",
    "options(digits=4)\n",
    "# create a 3 * 2 matrix\n",
    "Accuracy <- matrix(nrow=3, ncol=2, byrow=TRUE)\n",
    "# rename the row names and column names for the matrix\n",
    "dimnames(Accuracy) <- list(c(\"C5.0\", \"nnet\", \"naiveBayes\" ),c(\"Train_acccurary\", \"Test_accuracy\") )\n",
    "# add accuracy of train data and test data for each model\n",
    "Accuracy[\"C5.0\",] <- c(train_accuracy_C1,test_accuracy_C1)\n",
    "Accuracy[\"nnet\",] <- c(train_accuracy_nt,test_accuracy_nt)\n",
    "Accuracy[\"naiveBayes\",] <- c(train_accuracy_nb,test_accuracy_nb)\n",
    "# display the Accuracy\n",
    "Accuracy"
   ]
  },
  {
   "cell_type": "markdown",
   "metadata": {},
   "source": [
    "### Explanations:\n",
    "\n",
    "* From the result of the three single models, for training set, the C5.0 model got the highest accuaracy of 0.8303.\n",
    "\n",
    "* For testing set, the nnet got the best accuracy of 0.7823.\n",
    "\n",
    "* For model C5.0 and nnet, the training accuracy is higher than testing accuracy, however, for naiveBayes model, the testing accuracy is higher than training set.\n",
    "\n",
    "* Overall, the nnet has the best accuracy since it uses very complicated functions with 10 nodes to fit the  model, it learns well and got good result.\n",
    "\n",
    "* The naiveBayes model has the worst result since it is thoeretically based on the indepenndent variables, although I have removed two variables which have correlations, there are still some variables correlated with each other, such as those acid variables and pH since pH is the metric of acidity. They are not linearly correlated but log correlated, which I will explore in the near future due to the time limit at this stage."
   ]
  },
  {
   "cell_type": "markdown",
   "metadata": {},
   "source": [
    "### Task 2:  (30 points): By exploring the dataset, run an ensemble classifier (e.g. random forest) method to check the improvement on the accuracy of the wine quality prediction. What would be the improved accuracy for the proposed method\n"
   ]
  },
  {
   "cell_type": "markdown",
   "metadata": {},
   "source": [
    "### 4.5  Ensemble model--Random Forest model"
   ]
  },
  {
   "cell_type": "code",
   "execution_count": 661,
   "metadata": {},
   "outputs": [
    {
     "data": {
      "text/html": [
       "<table>\n",
       "<thead><tr><th></th><th scope=col>ntree</th><th scope=col>mtry</th></tr></thead>\n",
       "<tbody>\n",
       "\t<tr><th scope=row>4</th><td>200</td><td>3  </td></tr>\n",
       "</tbody>\n",
       "</table>\n"
      ],
      "text/latex": [
       "\\begin{tabular}{r|ll}\n",
       "  & ntree & mtry\\\\\n",
       "\\hline\n",
       "\t4 & 200 & 3  \\\\\n",
       "\\end{tabular}\n"
      ],
      "text/markdown": [
       "\n",
       "| <!--/--> | ntree | mtry |\n",
       "|---|---|---|\n",
       "| 4 | 200 | 3   |\n",
       "\n"
      ],
      "text/plain": [
       "  ntree mtry\n",
       "4 200   3   "
      ]
     },
     "metadata": {},
     "output_type": "display_data"
    }
   ],
   "source": [
    "# set tuning parameters\n",
    "rf_ranges<-list(ntree=c(50,100,150,200),mtry=3:10)\n",
    "# tune the model\n",
    "rf_tune<-tune(randomForest, quality~., data=wine_train,ranges=rf_ranges)\n",
    "# get the best parameters\n",
    "rf_tune$best.parameters"
   ]
  },
  {
   "cell_type": "code",
   "execution_count": 662,
   "metadata": {},
   "outputs": [
    {
     "data": {
      "text/plain": [
       "\n",
       "Call:\n",
       " best.tune(method = randomForest, train.x = quality ~ ., data = wine_train,      ranges = rf_ranges) \n",
       "               Type of random forest: classification\n",
       "                     Number of trees: 200\n",
       "No. of variables tried at each split: 3\n",
       "\n",
       "        OOB estimate of  error rate: 19.61%\n",
       "Confusion matrix:\n",
       "  0    1   2 class.error\n",
       "0 9  153   2     0.94512\n",
       "1 7 2704 134     0.04956\n",
       "2 0  432 272     0.61364"
      ]
     },
     "metadata": {},
     "output_type": "display_data"
    }
   ],
   "source": [
    "# get the best model\n",
    "rf_mod <- rf_tune$best.model\n",
    "# summarize the model\n",
    "rf_mod"
   ]
  },
  {
   "cell_type": "code",
   "execution_count": 663,
   "metadata": {},
   "outputs": [
    {
     "data": {
      "text/html": [
       "<table>\n",
       "<thead><tr><th></th><th scope=col>MeanDecreaseGini</th></tr></thead>\n",
       "<tbody>\n",
       "\t<tr><th scope=row>fixed.acidity</th><td>124.491</td></tr>\n",
       "\t<tr><th scope=row>volatile.acidity</th><td>151.391</td></tr>\n",
       "\t<tr><th scope=row>citric.acid</th><td>121.876</td></tr>\n",
       "\t<tr><th scope=row>residual.sugar</th><td>143.070</td></tr>\n",
       "\t<tr><th scope=row>chlorides</th><td>154.368</td></tr>\n",
       "\t<tr><th scope=row>free.sulfur.dioxide</th><td>141.320</td></tr>\n",
       "\t<tr><th scope=row>pH</th><td>140.195</td></tr>\n",
       "\t<tr><th scope=row>sulphates</th><td>143.343</td></tr>\n",
       "\t<tr><th scope=row>alcohol</th><td>263.496</td></tr>\n",
       "\t<tr><th scope=row>winetype</th><td>  7.217</td></tr>\n",
       "</tbody>\n",
       "</table>\n"
      ],
      "text/latex": [
       "\\begin{tabular}{r|l}\n",
       "  & MeanDecreaseGini\\\\\n",
       "\\hline\n",
       "\tfixed.acidity & 124.491\\\\\n",
       "\tvolatile.acidity & 151.391\\\\\n",
       "\tcitric.acid & 121.876\\\\\n",
       "\tresidual.sugar & 143.070\\\\\n",
       "\tchlorides & 154.368\\\\\n",
       "\tfree.sulfur.dioxide & 141.320\\\\\n",
       "\tpH & 140.195\\\\\n",
       "\tsulphates & 143.343\\\\\n",
       "\talcohol & 263.496\\\\\n",
       "\twinetype &   7.217\\\\\n",
       "\\end{tabular}\n"
      ],
      "text/markdown": [
       "\n",
       "| <!--/--> | MeanDecreaseGini |\n",
       "|---|---|\n",
       "| fixed.acidity | 124.491 |\n",
       "| volatile.acidity | 151.391 |\n",
       "| citric.acid | 121.876 |\n",
       "| residual.sugar | 143.070 |\n",
       "| chlorides | 154.368 |\n",
       "| free.sulfur.dioxide | 141.320 |\n",
       "| pH | 140.195 |\n",
       "| sulphates | 143.343 |\n",
       "| alcohol | 263.496 |\n",
       "| winetype |   7.217 |\n",
       "\n"
      ],
      "text/plain": [
       "                    MeanDecreaseGini\n",
       "fixed.acidity       124.491         \n",
       "volatile.acidity    151.391         \n",
       "citric.acid         121.876         \n",
       "residual.sugar      143.070         \n",
       "chlorides           154.368         \n",
       "free.sulfur.dioxide 141.320         \n",
       "pH                  140.195         \n",
       "sulphates           143.343         \n",
       "alcohol             263.496         \n",
       "winetype              7.217         "
      ]
     },
     "metadata": {},
     "output_type": "display_data"
    }
   ],
   "source": [
    "importance(rf_mod)"
   ]
  },
  {
   "cell_type": "code",
   "execution_count": 664,
   "metadata": {
    "scrolled": false
   },
   "outputs": [
    {
     "data": {
      "image/png": "[encoded data removed]",
      "text/plain": [
       "Plot with title \"rf_mod\""
      ]
     },
     "metadata": {},
     "output_type": "display_data"
    }
   ],
   "source": [
    "# plot the error rate\n",
    "# set plot size to 5 x 4\n",
    "options(repr.plot.width=5, repr.plot.height=4)\n",
    "plot(rf_mod)"
   ]
  },
  {
   "cell_type": "code",
   "execution_count": 665,
   "metadata": {},
   "outputs": [
    {
     "name": "stdout",
     "output_type": "stream",
     "text": [
      "[1] \"train_accuracy_rf:\"\n"
     ]
    },
    {
     "data": {
      "text/html": [
       "1"
      ],
      "text/latex": [
       "1"
      ],
      "text/markdown": [
       "1"
      ],
      "text/plain": [
       "[1] 1"
      ]
     },
     "metadata": {},
     "output_type": "display_data"
    }
   ],
   "source": [
    "# check the accuracy of the training set\n",
    "print(\"train_accuracy_rf:\")\n",
    "# print the accuracy\n",
    "(train_accuracy_rf<-(mean(predict(rf_mod,wine_train)==wine_train$quality)))"
   ]
  },
  {
   "cell_type": "code",
   "execution_count": 666,
   "metadata": {},
   "outputs": [
    {
     "name": "stdout",
     "output_type": "stream",
     "text": [
      "[1] \"test_accuracy_rf: \"\n"
     ]
    },
    {
     "data": {
      "text/html": [
       "0.798615481434865"
      ],
      "text/latex": [
       "0.798615481434865"
      ],
      "text/markdown": [
       "0.798615481434865"
      ],
      "text/plain": [
       "[1] 0.7986"
      ]
     },
     "metadata": {},
     "output_type": "display_data"
    },
    {
     "data": {
      "text/plain": [
       "Confusion Matrix and Statistics\n",
       "\n",
       "          Reference\n",
       "Prediction    0    1    2\n",
       "         0    3    1    0\n",
       "         1   65 1168  203\n",
       "         2    1   50   98\n",
       "\n",
       "Overall Statistics\n",
       "                                        \n",
       "               Accuracy : 0.799         \n",
       "                 95% CI : (0.778, 0.818)\n",
       "    No Information Rate : 0.767         \n",
       "    P-Value [Acc > NIR] : 0.00143       \n",
       "                                        \n",
       "                  Kappa : 0.303         \n",
       "                                        \n",
       " Mcnemar's Test P-Value : < 2e-16       \n",
       "\n",
       "Statistics by Class:\n",
       "\n",
       "                     Class: 0 Class: 1 Class: 2\n",
       "Sensitivity           0.04348    0.958   0.3256\n",
       "Specificity           0.99934    0.276   0.9604\n",
       "Pos Pred Value        0.75000    0.813   0.6577\n",
       "Neg Pred Value        0.95836    0.667   0.8590\n",
       "Prevalence            0.04342    0.767   0.1894\n",
       "Detection Rate        0.00189    0.735   0.0617\n",
       "Detection Prevalence  0.00252    0.904   0.0938\n",
       "Balanced Accuracy     0.52141    0.617   0.6430"
      ]
     },
     "metadata": {},
     "output_type": "display_data"
    }
   ],
   "source": [
    "# predict the labels based on test data\n",
    "pred4 <- predict(rf_mod,wine_test)\n",
    "print(\"test_accuracy_rf: \")\n",
    "# print the accuracy\n",
    "(test_accuracy_rf<-(mean(pred4==wine_test$quality)))\n",
    "confusionMatrix(pred4,wine_test$quality) # check the result"
   ]
  },
  {
   "cell_type": "markdown",
   "metadata": {},
   "source": [
    "### Explanations:\n",
    "* The random forest model got the best parameter of 200 trees and 3 variables for splitting at each tree node.\n",
    "\n",
    "* It has a very high error rate in class 0, maybe because the number of class 0 is too limited, which is the problem of this dataset, if more data collected and more class 0 included in the model fitting, better result will be got.The class 2 error is also high, whereas class 1 has the lowest error rate because class 1 has themost number and class 1 does not have enough sample.\n",
    "\n",
    "* Gini decrease mean decrease in the Gini index of node impurity, or increase of node purity by splits on the variable.The importance of the variables aligns with the previous bivariate plots during exploratory data analysis, where the achohol has the biggest difference between class 2 and other two calsses, then comes the chlorides and volatile acidity,ect.\n",
    "\n",
    "* The training set accuracy is 1, while the testing set is 0.7986, obviouly the model has overfitting, it learns very well in the training dataset but predict the testing set is not satisfied. But it has improved the accuracy and is still higher than the other three models.\n",
    "\n",
    "***Reference: https://medium.com/the-artificial-impostor/feature-importance-measures-for-tree-models-part-i-47f187c1a2c3***"
   ]
  },
  {
   "cell_type": "markdown",
   "metadata": {},
   "source": [
    "## 5. Summary "
   ]
  },
  {
   "cell_type": "code",
   "execution_count": 667,
   "metadata": {},
   "outputs": [
    {
     "data": {
      "text/html": [
       "<table>\n",
       "<thead><tr><th></th><th scope=col>Train_acccurary</th><th scope=col>Test_accuracy</th></tr></thead>\n",
       "<tbody>\n",
       "\t<tr><th scope=row>C5.0</th><td>0.8303</td><td>0.7703</td></tr>\n",
       "\t<tr><th scope=row>nnet</th><td>0.8088</td><td>0.7823</td></tr>\n",
       "\t<tr><th scope=row>naiveBayes</th><td>0.7479</td><td>0.7571</td></tr>\n",
       "\t<tr><th scope=row>RandomForest</th><td>1.0000</td><td>0.7986</td></tr>\n",
       "</tbody>\n",
       "</table>\n"
      ],
      "text/latex": [
       "\\begin{tabular}{r|ll}\n",
       "  & Train\\_acccurary & Test\\_accuracy\\\\\n",
       "\\hline\n",
       "\tC5.0 & 0.8303 & 0.7703\\\\\n",
       "\tnnet & 0.8088 & 0.7823\\\\\n",
       "\tnaiveBayes & 0.7479 & 0.7571\\\\\n",
       "\tRandomForest & 1.0000 & 0.7986\\\\\n",
       "\\end{tabular}\n"
      ],
      "text/markdown": [
       "\n",
       "| <!--/--> | Train_acccurary | Test_accuracy |\n",
       "|---|---|---|\n",
       "| C5.0 | 0.8303 | 0.7703 |\n",
       "| nnet | 0.8088 | 0.7823 |\n",
       "| naiveBayes | 0.7479 | 0.7571 |\n",
       "| RandomForest | 1.0000 | 0.7986 |\n",
       "\n"
      ],
      "text/plain": [
       "             Train_acccurary Test_accuracy\n",
       "C5.0         0.8303          0.7703       \n",
       "nnet         0.8088          0.7823       \n",
       "naiveBayes   0.7479          0.7571       \n",
       "RandomForest 1.0000          0.7986       "
      ]
     },
     "metadata": {},
     "output_type": "display_data"
    }
   ],
   "source": [
    "# set the digits as 4\n",
    "options(digits=4)\n",
    "# create a 4 * 2 matrix\n",
    "Accuracy1 <- matrix(nrow=4, ncol=2, byrow=TRUE)\n",
    "# rename the row names and column names for the matrix\n",
    "dimnames(Accuracy1) <- list(c(\"C5.0\", \"nnet\", \"naiveBayes\",\"RandomForest\"),\n",
    "c(\"Train_acccurary\", \"Test_accuracy\") )\n",
    "# add accuracy of train data and test data for each model\n",
    "Accuracy1[\"C5.0\",] <- c(train_accuracy_C1,test_accuracy_C1)\n",
    "Accuracy1[\"nnet\",] <- c(train_accuracy_nt,test_accuracy_nt)\n",
    "Accuracy1[\"naiveBayes\",] <- c(train_accuracy_nb,test_accuracy_nb)\n",
    "Accuracy1[\"RandomForest\",] <- c(train_accuracy_rf,test_accuracy_rf)\n",
    "\n",
    "# display the Accuracy\n",
    "Accuracy1"
   ]
  },
  {
   "cell_type": "markdown",
   "metadata": {},
   "source": [
    "\n",
    "### Explanations:\n",
    "\n",
    "* According to the result of the three single models and one ensemble model, from the accuracy, the random forest has the best result since it has higher training accuracy of 1 as well as testing accuracy of 0.7986.\n",
    "\n",
    "* Random forest consists of a large number of individual decision trees that operate as an ensemble. It allows each individual tree to randomly sample from the dataset with replacement, resulting in different trees.This process is bagging. Each individual tree in the random forest spits out a class prediction and the class with the most votes becomes our model’s prediction.\n",
    "\n",
    "* The reason that the random forest model works so well is: a large number of relatively uncorrelated models (trees) operating as a committee will outperform any of the individual constituent models.\n",
    "\n",
    "* However, in this dataset, the error rate is very high in class 0, and lower error rate in class 1 bacause this dataset is imbalanced, there is big difference among the number of the three classes. \n",
    "\n",
    "* I tried to used a relatively balanced data to relevel the quality, like classifying the quality level into three groups as follows, Low(3,4,5), Medium(6),High(7,8,9), then all the levels will have more than 1000 samples, but during the data visulization, I didnot find much difference based on the bivariate plots, I guess the calssification will not be good. I also tried to fit the model based on this relevelling, the result is bad, and the accuracy is less than 0.70. So I selected this classification, which is more recognized based on the consumer review (we often consider level<5 as poor, 5 and 6 as medium, level>7 as high quality), Low(2,3,4),Medium(5,6),High(7,8), but I found the dataset is imbalanced. Since this calssification is more reasonable in real life, I just keep the data like this. \n",
    "\n",
    "* I also considered to relevel it into 2 levels, which will be easier and less imbalanced, but that is not reasonable in real life, which we often recognize three levels for quality review. One solution in the real life is to collect more data to include more number of low quality review data into the data.\n",
    "\n",
    "***Reference: https://towardsdatascience.com/understanding-random-forest-58381e0602d2***\n"
   ]
  }
 ],
 "metadata": {
  "kernelspec": {
   "display_name": "R",
   "language": "R",
   "name": "ir"
  },
  "language_info": {
   "codemirror_mode": "r",
   "file_extension": ".r",
   "mimetype": "text/x-r-source",
   "name": "R",
   "pygments_lexer": "r",
   "version": "3.6.1"
  }
 },
 "nbformat": 4,
 "nbformat_minor": 4
}
