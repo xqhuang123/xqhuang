{
 "cells": [
  {
   "cell_type": "markdown",
   "metadata": {},
   "source": [
    "## Question 1: Data Understanding"
   ]
  },
  {
   "cell_type": "markdown",
   "metadata": {},
   "source": [
    "### 1.1 user_features.csv "
   ]
  },
  {
   "cell_type": "code",
   "execution_count": 1,
   "metadata": {},
   "outputs": [],
   "source": [
    "# import modules\n",
    "import pandas as pd\n",
    "import numpy as np\n",
    "import matplotlib.pyplot as plt\n",
    "import seaborn as sns"
   ]
  },
  {
   "cell_type": "code",
   "execution_count": 2,
   "metadata": {},
   "outputs": [
    {
     "name": "stdout",
     "output_type": "stream",
     "text": [
      "<class 'pandas.core.frame.DataFrame'>\n",
      "RangeIndex: 12000 entries, 0 to 11999\n",
      "Data columns (total 4 columns):\n",
      "user_id                    12000 non-null int64\n",
      "number_of_clicks_before    11500 non-null object\n",
      "ordered_before             12000 non-null bool\n",
      "personal_interests         12000 non-null object\n",
      "dtypes: bool(1), int64(1), object(2)\n",
      "memory usage: 293.1+ KB\n"
     ]
    },
    {
     "data": {
      "text/html": [
       "<div>\n",
       "<style scoped>\n",
       "    .dataframe tbody tr th:only-of-type {\n",
       "        vertical-align: middle;\n",
       "    }\n",
       "\n",
       "    .dataframe tbody tr th {\n",
       "        vertical-align: top;\n",
       "    }\n",
       "\n",
       "    .dataframe thead th {\n",
       "        text-align: right;\n",
       "    }\n",
       "</style>\n",
       "<table border=\"1\" class=\"dataframe\">\n",
       "  <thead>\n",
       "    <tr style=\"text-align: right;\">\n",
       "      <th></th>\n",
       "      <th>user_id</th>\n",
       "      <th>number_of_clicks_before</th>\n",
       "      <th>ordered_before</th>\n",
       "      <th>personal_interests</th>\n",
       "    </tr>\n",
       "  </thead>\n",
       "  <tbody>\n",
       "    <tr>\n",
       "      <th>0</th>\n",
       "      <td>104939</td>\n",
       "      <td>2</td>\n",
       "      <td>True</td>\n",
       "      <td>['body', 'makeup', 'nail', 'hand', 'foot', 'me...</td>\n",
       "    </tr>\n",
       "    <tr>\n",
       "      <th>1</th>\n",
       "      <td>101562</td>\n",
       "      <td>2</td>\n",
       "      <td>True</td>\n",
       "      <td>['men_skincare', 'men_fragrance', 'tools', 'sk...</td>\n",
       "    </tr>\n",
       "    <tr>\n",
       "      <th>2</th>\n",
       "      <td>102343</td>\n",
       "      <td>2</td>\n",
       "      <td>True</td>\n",
       "      <td>['tools', 'makeup', 'foot', 'nail']</td>\n",
       "    </tr>\n",
       "    <tr>\n",
       "      <th>3</th>\n",
       "      <td>106728</td>\n",
       "      <td>5</td>\n",
       "      <td>True</td>\n",
       "      <td>['hand', 'men_skincare']</td>\n",
       "    </tr>\n",
       "    <tr>\n",
       "      <th>4</th>\n",
       "      <td>107179</td>\n",
       "      <td>0</td>\n",
       "      <td>True</td>\n",
       "      <td>['makeup', 'body', 'skincare', 'foot', 'men_sk...</td>\n",
       "    </tr>\n",
       "  </tbody>\n",
       "</table>\n",
       "</div>"
      ],
      "text/plain": [
       "   user_id number_of_clicks_before  ordered_before  \\\n",
       "0   104939                       2            True   \n",
       "1   101562                       2            True   \n",
       "2   102343                       2            True   \n",
       "3   106728                       5            True   \n",
       "4   107179                       0            True   \n",
       "\n",
       "                                  personal_interests  \n",
       "0  ['body', 'makeup', 'nail', 'hand', 'foot', 'me...  \n",
       "1  ['men_skincare', 'men_fragrance', 'tools', 'sk...  \n",
       "2                ['tools', 'makeup', 'foot', 'nail']  \n",
       "3                           ['hand', 'men_skincare']  \n",
       "4  ['makeup', 'body', 'skincare', 'foot', 'men_sk...  "
      ]
     },
     "execution_count": 2,
     "metadata": {},
     "output_type": "execute_result"
    }
   ],
   "source": [
    "# read user features data and check the data structure\n",
    "userFeatures=pd.read_csv(\"user_features.csv\")  \n",
    "userFeatures.info() # check the structure of the data\n",
    "userFeatures.head() # check what the data looks like"
   ]
  },
  {
   "cell_type": "code",
   "execution_count": 3,
   "metadata": {
    "scrolled": true
   },
   "outputs": [
    {
     "data": {
      "text/html": [
       "<div>\n",
       "<style scoped>\n",
       "    .dataframe tbody tr th:only-of-type {\n",
       "        vertical-align: middle;\n",
       "    }\n",
       "\n",
       "    .dataframe tbody tr th {\n",
       "        vertical-align: top;\n",
       "    }\n",
       "\n",
       "    .dataframe thead th {\n",
       "        text-align: right;\n",
       "    }\n",
       "</style>\n",
       "<table border=\"1\" class=\"dataframe\">\n",
       "  <thead>\n",
       "    <tr style=\"text-align: right;\">\n",
       "      <th></th>\n",
       "      <th>user_id</th>\n",
       "    </tr>\n",
       "  </thead>\n",
       "  <tbody>\n",
       "    <tr>\n",
       "      <th>count</th>\n",
       "      <td>12000.00000</td>\n",
       "    </tr>\n",
       "    <tr>\n",
       "      <th>mean</th>\n",
       "      <td>105999.50000</td>\n",
       "    </tr>\n",
       "    <tr>\n",
       "      <th>std</th>\n",
       "      <td>3464.24595</td>\n",
       "    </tr>\n",
       "    <tr>\n",
       "      <th>min</th>\n",
       "      <td>100000.00000</td>\n",
       "    </tr>\n",
       "    <tr>\n",
       "      <th>25%</th>\n",
       "      <td>102999.75000</td>\n",
       "    </tr>\n",
       "    <tr>\n",
       "      <th>50%</th>\n",
       "      <td>105999.50000</td>\n",
       "    </tr>\n",
       "    <tr>\n",
       "      <th>75%</th>\n",
       "      <td>108999.25000</td>\n",
       "    </tr>\n",
       "    <tr>\n",
       "      <th>max</th>\n",
       "      <td>111999.00000</td>\n",
       "    </tr>\n",
       "  </tbody>\n",
       "</table>\n",
       "</div>"
      ],
      "text/plain": [
       "            user_id\n",
       "count   12000.00000\n",
       "mean   105999.50000\n",
       "std      3464.24595\n",
       "min    100000.00000\n",
       "25%    102999.75000\n",
       "50%    105999.50000\n",
       "75%    108999.25000\n",
       "max    111999.00000"
      ]
     },
     "execution_count": 3,
     "metadata": {},
     "output_type": "execute_result"
    }
   ],
   "source": [
    "#get the summary of the data of users features\n",
    "userFeatures.describe() # get the descriptive statistics of the numberic valiables"
   ]
  },
  {
   "cell_type": "markdown",
   "metadata": {},
   "source": [
    "### 1.2 product_features.csv "
   ]
  },
  {
   "cell_type": "code",
   "execution_count": 4,
   "metadata": {
    "scrolled": true
   },
   "outputs": [
    {
     "name": "stdout",
     "output_type": "stream",
     "text": [
      "<class 'pandas.core.frame.DataFrame'>\n",
      "RangeIndex: 1000 entries, 0 to 999\n",
      "Data columns (total 5 columns):\n",
      "product_id           1000 non-null int64\n",
      "category             1000 non-null object\n",
      "on_sale              1000 non-null bool\n",
      "number_of_reviews    1000 non-null int64\n",
      "avg_review_score     1000 non-null float64\n",
      "dtypes: bool(1), float64(1), int64(2), object(1)\n",
      "memory usage: 32.4+ KB\n"
     ]
    },
    {
     "data": {
      "text/html": [
       "<div>\n",
       "<style scoped>\n",
       "    .dataframe tbody tr th:only-of-type {\n",
       "        vertical-align: middle;\n",
       "    }\n",
       "\n",
       "    .dataframe tbody tr th {\n",
       "        vertical-align: top;\n",
       "    }\n",
       "\n",
       "    .dataframe thead th {\n",
       "        text-align: right;\n",
       "    }\n",
       "</style>\n",
       "<table border=\"1\" class=\"dataframe\">\n",
       "  <thead>\n",
       "    <tr style=\"text-align: right;\">\n",
       "      <th></th>\n",
       "      <th>product_id</th>\n",
       "      <th>category</th>\n",
       "      <th>on_sale</th>\n",
       "      <th>number_of_reviews</th>\n",
       "      <th>avg_review_score</th>\n",
       "    </tr>\n",
       "  </thead>\n",
       "  <tbody>\n",
       "    <tr>\n",
       "      <th>0</th>\n",
       "      <td>1134</td>\n",
       "      <td>tools</td>\n",
       "      <td>False</td>\n",
       "      <td>101</td>\n",
       "      <td>3.349452</td>\n",
       "    </tr>\n",
       "    <tr>\n",
       "      <th>1</th>\n",
       "      <td>1846</td>\n",
       "      <td>skincare</td>\n",
       "      <td>False</td>\n",
       "      <td>111</td>\n",
       "      <td>5.000000</td>\n",
       "    </tr>\n",
       "    <tr>\n",
       "      <th>2</th>\n",
       "      <td>1762</td>\n",
       "      <td>fragrance</td>\n",
       "      <td>False</td>\n",
       "      <td>220</td>\n",
       "      <td>4.882706</td>\n",
       "    </tr>\n",
       "    <tr>\n",
       "      <th>3</th>\n",
       "      <td>1254</td>\n",
       "      <td>hair</td>\n",
       "      <td>True</td>\n",
       "      <td>446</td>\n",
       "      <td>5.000000</td>\n",
       "    </tr>\n",
       "    <tr>\n",
       "      <th>4</th>\n",
       "      <td>1493</td>\n",
       "      <td>body</td>\n",
       "      <td>True</td>\n",
       "      <td>513</td>\n",
       "      <td>-1.000000</td>\n",
       "    </tr>\n",
       "  </tbody>\n",
       "</table>\n",
       "</div>"
      ],
      "text/plain": [
       "   product_id   category  on_sale  number_of_reviews  avg_review_score\n",
       "0        1134      tools    False                101          3.349452\n",
       "1        1846   skincare    False                111          5.000000\n",
       "2        1762  fragrance    False                220          4.882706\n",
       "3        1254       hair     True                446          5.000000\n",
       "4        1493       body     True                513         -1.000000"
      ]
     },
     "execution_count": 4,
     "metadata": {},
     "output_type": "execute_result"
    }
   ],
   "source": [
    "# read product features data and check the data structure\n",
    "proFeatures=pd.read_csv(\"product_features.csv\")\n",
    "proFeatures.info() # check the data structure\n",
    "proFeatures.head() # check the head of the dataset"
   ]
  },
  {
   "cell_type": "code",
   "execution_count": 5,
   "metadata": {},
   "outputs": [
    {
     "data": {
      "text/html": [
       "<div>\n",
       "<style scoped>\n",
       "    .dataframe tbody tr th:only-of-type {\n",
       "        vertical-align: middle;\n",
       "    }\n",
       "\n",
       "    .dataframe tbody tr th {\n",
       "        vertical-align: top;\n",
       "    }\n",
       "\n",
       "    .dataframe thead th {\n",
       "        text-align: right;\n",
       "    }\n",
       "</style>\n",
       "<table border=\"1\" class=\"dataframe\">\n",
       "  <thead>\n",
       "    <tr style=\"text-align: right;\">\n",
       "      <th></th>\n",
       "      <th>product_id</th>\n",
       "      <th>number_of_reviews</th>\n",
       "      <th>avg_review_score</th>\n",
       "    </tr>\n",
       "  </thead>\n",
       "  <tbody>\n",
       "    <tr>\n",
       "      <th>count</th>\n",
       "      <td>1000.000000</td>\n",
       "      <td>1.000000e+03</td>\n",
       "      <td>1000.000000</td>\n",
       "    </tr>\n",
       "    <tr>\n",
       "      <th>mean</th>\n",
       "      <td>1499.500000</td>\n",
       "      <td>1.157725e+05</td>\n",
       "      <td>2.660656</td>\n",
       "    </tr>\n",
       "    <tr>\n",
       "      <th>std</th>\n",
       "      <td>288.819436</td>\n",
       "      <td>5.028997e+05</td>\n",
       "      <td>1.741875</td>\n",
       "    </tr>\n",
       "    <tr>\n",
       "      <th>min</th>\n",
       "      <td>1000.000000</td>\n",
       "      <td>6.600000e+01</td>\n",
       "      <td>-1.000000</td>\n",
       "    </tr>\n",
       "    <tr>\n",
       "      <th>25%</th>\n",
       "      <td>1249.750000</td>\n",
       "      <td>2.570000e+02</td>\n",
       "      <td>1.428969</td>\n",
       "    </tr>\n",
       "    <tr>\n",
       "      <th>50%</th>\n",
       "      <td>1499.500000</td>\n",
       "      <td>4.710000e+02</td>\n",
       "      <td>2.769397</td>\n",
       "    </tr>\n",
       "    <tr>\n",
       "      <th>75%</th>\n",
       "      <td>1749.250000</td>\n",
       "      <td>7.042500e+02</td>\n",
       "      <td>4.180860</td>\n",
       "    </tr>\n",
       "    <tr>\n",
       "      <th>max</th>\n",
       "      <td>1999.000000</td>\n",
       "      <td>2.307390e+06</td>\n",
       "      <td>5.000000</td>\n",
       "    </tr>\n",
       "  </tbody>\n",
       "</table>\n",
       "</div>"
      ],
      "text/plain": [
       "        product_id  number_of_reviews  avg_review_score\n",
       "count  1000.000000       1.000000e+03       1000.000000\n",
       "mean   1499.500000       1.157725e+05          2.660656\n",
       "std     288.819436       5.028997e+05          1.741875\n",
       "min    1000.000000       6.600000e+01         -1.000000\n",
       "25%    1249.750000       2.570000e+02          1.428969\n",
       "50%    1499.500000       4.710000e+02          2.769397\n",
       "75%    1749.250000       7.042500e+02          4.180860\n",
       "max    1999.000000       2.307390e+06          5.000000"
      ]
     },
     "execution_count": 5,
     "metadata": {},
     "output_type": "execute_result"
    }
   ],
   "source": [
    "# Check the descriptive statistics of nummerics variables\n",
    "proFeatures.describe() "
   ]
  },
  {
   "cell_type": "markdown",
   "metadata": {},
   "source": [
    "### 1.3 click_history.csv "
   ]
  },
  {
   "cell_type": "code",
   "execution_count": 6,
   "metadata": {
    "scrolled": true
   },
   "outputs": [
    {
     "name": "stdout",
     "output_type": "stream",
     "text": [
      "<class 'pandas.core.frame.DataFrame'>\n",
      "RangeIndex: 35990 entries, 0 to 35989\n",
      "Data columns (total 3 columns):\n",
      "user_id       35990 non-null int64\n",
      "product_id    35990 non-null int64\n",
      "clicked       35990 non-null bool\n",
      "dtypes: bool(1), int64(2)\n",
      "memory usage: 597.6 KB\n"
     ]
    },
    {
     "data": {
      "text/html": [
       "<div>\n",
       "<style scoped>\n",
       "    .dataframe tbody tr th:only-of-type {\n",
       "        vertical-align: middle;\n",
       "    }\n",
       "\n",
       "    .dataframe tbody tr th {\n",
       "        vertical-align: top;\n",
       "    }\n",
       "\n",
       "    .dataframe thead th {\n",
       "        text-align: right;\n",
       "    }\n",
       "</style>\n",
       "<table border=\"1\" class=\"dataframe\">\n",
       "  <thead>\n",
       "    <tr style=\"text-align: right;\">\n",
       "      <th></th>\n",
       "      <th>user_id</th>\n",
       "      <th>product_id</th>\n",
       "      <th>clicked</th>\n",
       "    </tr>\n",
       "  </thead>\n",
       "  <tbody>\n",
       "    <tr>\n",
       "      <th>0</th>\n",
       "      <td>104863</td>\n",
       "      <td>1350</td>\n",
       "      <td>False</td>\n",
       "    </tr>\n",
       "    <tr>\n",
       "      <th>1</th>\n",
       "      <td>108656</td>\n",
       "      <td>1321</td>\n",
       "      <td>True</td>\n",
       "    </tr>\n",
       "    <tr>\n",
       "      <th>2</th>\n",
       "      <td>100120</td>\n",
       "      <td>1110</td>\n",
       "      <td>False</td>\n",
       "    </tr>\n",
       "    <tr>\n",
       "      <th>3</th>\n",
       "      <td>104838</td>\n",
       "      <td>1443</td>\n",
       "      <td>True</td>\n",
       "    </tr>\n",
       "    <tr>\n",
       "      <th>4</th>\n",
       "      <td>107304</td>\n",
       "      <td>1397</td>\n",
       "      <td>True</td>\n",
       "    </tr>\n",
       "  </tbody>\n",
       "</table>\n",
       "</div>"
      ],
      "text/plain": [
       "   user_id  product_id  clicked\n",
       "0   104863        1350    False\n",
       "1   108656        1321     True\n",
       "2   100120        1110    False\n",
       "3   104838        1443     True\n",
       "4   107304        1397     True"
      ]
     },
     "execution_count": 6,
     "metadata": {},
     "output_type": "execute_result"
    }
   ],
   "source": [
    "# read product features data and check the data structure\n",
    "click=pd.read_csv(\"click_history.csv\") \n",
    "click.info() # check the structure of the dataframe\n",
    "click.head() # take a look at the head of the data"
   ]
  },
  {
   "cell_type": "code",
   "execution_count": 7,
   "metadata": {
    "scrolled": true
   },
   "outputs": [
    {
     "data": {
      "text/html": [
       "<div>\n",
       "<style scoped>\n",
       "    .dataframe tbody tr th:only-of-type {\n",
       "        vertical-align: middle;\n",
       "    }\n",
       "\n",
       "    .dataframe tbody tr th {\n",
       "        vertical-align: top;\n",
       "    }\n",
       "\n",
       "    .dataframe thead th {\n",
       "        text-align: right;\n",
       "    }\n",
       "</style>\n",
       "<table border=\"1\" class=\"dataframe\">\n",
       "  <thead>\n",
       "    <tr style=\"text-align: right;\">\n",
       "      <th></th>\n",
       "      <th>user_id</th>\n",
       "      <th>product_id</th>\n",
       "    </tr>\n",
       "  </thead>\n",
       "  <tbody>\n",
       "    <tr>\n",
       "      <th>count</th>\n",
       "      <td>35990.000000</td>\n",
       "      <td>35990.000000</td>\n",
       "    </tr>\n",
       "    <tr>\n",
       "      <th>mean</th>\n",
       "      <td>106017.080161</td>\n",
       "      <td>1500.232898</td>\n",
       "    </tr>\n",
       "    <tr>\n",
       "      <th>std</th>\n",
       "      <td>3483.480090</td>\n",
       "      <td>288.101984</td>\n",
       "    </tr>\n",
       "    <tr>\n",
       "      <th>min</th>\n",
       "      <td>100001.000000</td>\n",
       "      <td>1000.000000</td>\n",
       "    </tr>\n",
       "    <tr>\n",
       "      <th>25%</th>\n",
       "      <td>102976.500000</td>\n",
       "      <td>1250.000000</td>\n",
       "    </tr>\n",
       "    <tr>\n",
       "      <th>50%</th>\n",
       "      <td>106060.000000</td>\n",
       "      <td>1503.000000</td>\n",
       "    </tr>\n",
       "    <tr>\n",
       "      <th>75%</th>\n",
       "      <td>109049.000000</td>\n",
       "      <td>1749.000000</td>\n",
       "    </tr>\n",
       "    <tr>\n",
       "      <th>max</th>\n",
       "      <td>111999.000000</td>\n",
       "      <td>1999.000000</td>\n",
       "    </tr>\n",
       "  </tbody>\n",
       "</table>\n",
       "</div>"
      ],
      "text/plain": [
       "             user_id    product_id\n",
       "count   35990.000000  35990.000000\n",
       "mean   106017.080161   1500.232898\n",
       "std      3483.480090    288.101984\n",
       "min    100001.000000   1000.000000\n",
       "25%    102976.500000   1250.000000\n",
       "50%    106060.000000   1503.000000\n",
       "75%    109049.000000   1749.000000\n",
       "max    111999.000000   1999.000000"
      ]
     },
     "execution_count": 7,
     "metadata": {},
     "output_type": "execute_result"
    }
   ],
   "source": [
    "# Check the descriptive statistics of nummerics variables\n",
    "click.describe()   # not informative since they are user_id and product_id"
   ]
  },
  {
   "cell_type": "markdown",
   "metadata": {},
   "source": [
    "## Question 2: Data Cleaning and Preprocessing"
   ]
  },
  {
   "cell_type": "markdown",
   "metadata": {},
   "source": [
    "### 2.1 Check duplicated rows"
   ]
  },
  {
   "cell_type": "code",
   "execution_count": 8,
   "metadata": {},
   "outputs": [
    {
     "name": "stdout",
     "output_type": "stream",
     "text": [
      "0\n",
      "0\n",
      "0\n"
     ]
    }
   ],
   "source": [
    "#check duplicated rows\n",
    "print(userFeatures.duplicated().sum()) # output is 0, no duplicated rows\n",
    "print(proFeatures.duplicated().sum()) # output is 0, no duplicated rows\n",
    "print(click.duplicated().sum()) # output is 0, no duplicated rows"
   ]
  },
  {
   "cell_type": "markdown",
   "metadata": {},
   "source": [
    "### 2.2 Check and handle missing values"
   ]
  },
  {
   "cell_type": "code",
   "execution_count": 9,
   "metadata": {},
   "outputs": [
    {
     "name": "stdout",
     "output_type": "stream",
     "text": [
      "Missing value for userFeatures: \n",
      " user_id                      0\n",
      "number_of_clicks_before    500\n",
      "ordered_before               0\n",
      "personal_interests           0\n",
      "dtype: int64\n",
      "\n",
      " Missing value for proFeatures: \n",
      " 0\n",
      "\n",
      " Missing value for clicks: \n",
      " 0\n"
     ]
    }
   ],
   "source": [
    "# check missing value for each dataset\n",
    "\n",
    "print(\"Missing value for userFeatures: \\n\", userFeatures.isnull().sum()) \n",
    "# the variable number_of_clicks_before has 500 missing values\n",
    "\n",
    "print(\"\\n Missing value for proFeatures: \\n\", proFeatures.isnull().sum().values.sum()) # 0, no missing values\n",
    "\n",
    "print(\"\\n Missing value for clicks: \\n\", click.isnull().sum().values.sum()) # 0,no missing values"
   ]
  },
  {
   "cell_type": "code",
   "execution_count": 10,
   "metadata": {},
   "outputs": [
    {
     "name": "stdout",
     "output_type": "stream",
     "text": [
      "                         user_id  ordered_before  personal_interests\n",
      "number_of_clicks_before                                             \n",
      "0                           2196            2196                2196\n",
      "1                           2399            2399                2399\n",
      "2                           2710            2710                2710\n",
      "3                             59              59                  59\n",
      "4                            711             711                 711\n",
      "5                           1057            1057                1057\n",
      "6+                          2368            2368                2368\n"
     ]
    }
   ],
   "source": [
    "# check the distribution of the number_of_clicks_before\n",
    "\n",
    "print(userFeatures.groupby([\"number_of_clicks_before\"]).count()) # the number_of_clicks_before=2 has the most count number\n",
    "#so I decide to replace the missing value with 2\n",
    "\n",
    "userFeatures.fillna(2,inplace=True) # fill the missing value with 2"
   ]
  },
  {
   "cell_type": "code",
   "execution_count": 11,
   "metadata": {},
   "outputs": [
    {
     "data": {
      "text/plain": [
       "user_id                    0\n",
       "number_of_clicks_before    0\n",
       "ordered_before             0\n",
       "personal_interests         0\n",
       "dtype: int64"
      ]
     },
     "execution_count": 11,
     "metadata": {},
     "output_type": "execute_result"
    }
   ],
   "source": [
    "# check if there is still missing value\n",
    "userFeatures.isnull().sum() # ouput is 0, no missing value"
   ]
  },
  {
   "cell_type": "markdown",
   "metadata": {},
   "source": [
    "### 2.3 Seperate cells with multiple values and get dummies"
   ]
  },
  {
   "cell_type": "code",
   "execution_count": 12,
   "metadata": {},
   "outputs": [],
   "source": [
    "# separate personal_interests variable \n",
    "import ast\n",
    "\n",
    "userFeatures.personal_interests = userFeatures.personal_interests.apply(lambda x: ast.literal_eval(x))"
   ]
  },
  {
   "cell_type": "code",
   "execution_count": 13,
   "metadata": {},
   "outputs": [
    {
     "data": {
      "text/html": [
       "<div>\n",
       "<style scoped>\n",
       "    .dataframe tbody tr th:only-of-type {\n",
       "        vertical-align: middle;\n",
       "    }\n",
       "\n",
       "    .dataframe tbody tr th {\n",
       "        vertical-align: top;\n",
       "    }\n",
       "\n",
       "    .dataframe thead th {\n",
       "        text-align: right;\n",
       "    }\n",
       "</style>\n",
       "<table border=\"1\" class=\"dataframe\">\n",
       "  <thead>\n",
       "    <tr style=\"text-align: right;\">\n",
       "      <th></th>\n",
       "      <th>body</th>\n",
       "      <th>foot</th>\n",
       "      <th>fragrance</th>\n",
       "      <th>hair</th>\n",
       "      <th>hand</th>\n",
       "      <th>makeup</th>\n",
       "      <th>men_fragrance</th>\n",
       "      <th>men_skincare</th>\n",
       "      <th>nail</th>\n",
       "      <th>skincare</th>\n",
       "      <th>tools</th>\n",
       "    </tr>\n",
       "  </thead>\n",
       "  <tbody>\n",
       "    <tr>\n",
       "      <th>0</th>\n",
       "      <td>1</td>\n",
       "      <td>1</td>\n",
       "      <td>1</td>\n",
       "      <td>1</td>\n",
       "      <td>1</td>\n",
       "      <td>1</td>\n",
       "      <td>1</td>\n",
       "      <td>0</td>\n",
       "      <td>1</td>\n",
       "      <td>0</td>\n",
       "      <td>1</td>\n",
       "    </tr>\n",
       "    <tr>\n",
       "      <th>1</th>\n",
       "      <td>1</td>\n",
       "      <td>0</td>\n",
       "      <td>0</td>\n",
       "      <td>0</td>\n",
       "      <td>0</td>\n",
       "      <td>1</td>\n",
       "      <td>1</td>\n",
       "      <td>1</td>\n",
       "      <td>1</td>\n",
       "      <td>1</td>\n",
       "      <td>1</td>\n",
       "    </tr>\n",
       "    <tr>\n",
       "      <th>2</th>\n",
       "      <td>0</td>\n",
       "      <td>1</td>\n",
       "      <td>0</td>\n",
       "      <td>0</td>\n",
       "      <td>0</td>\n",
       "      <td>1</td>\n",
       "      <td>0</td>\n",
       "      <td>0</td>\n",
       "      <td>1</td>\n",
       "      <td>0</td>\n",
       "      <td>1</td>\n",
       "    </tr>\n",
       "  </tbody>\n",
       "</table>\n",
       "</div>"
      ],
      "text/plain": [
       "   body  foot  fragrance  hair  hand  makeup  men_fragrance  men_skincare  \\\n",
       "0     1     1          1     1     1       1              1             0   \n",
       "1     1     0          0     0     0       1              1             1   \n",
       "2     0     1          0     0     0       1              0             0   \n",
       "\n",
       "   nail  skincare  tools  \n",
       "0     1         0      1  \n",
       "1     1         1      1  \n",
       "2     1         0      1  "
      ]
     },
     "execution_count": 13,
     "metadata": {},
     "output_type": "execute_result"
    }
   ],
   "source": [
    "# convert it to numerical variable using get_dummies\n",
    "dumPerInt = pd.get_dummies(userFeatures.personal_interests.apply(pd.Series).stack()).sum(level=0)\n",
    "\n",
    "dumPerInt.head(3)"
   ]
  },
  {
   "cell_type": "code",
   "execution_count": 14,
   "metadata": {},
   "outputs": [
    {
     "data": {
      "text/html": [
       "<div>\n",
       "<style scoped>\n",
       "    .dataframe tbody tr th:only-of-type {\n",
       "        vertical-align: middle;\n",
       "    }\n",
       "\n",
       "    .dataframe tbody tr th {\n",
       "        vertical-align: top;\n",
       "    }\n",
       "\n",
       "    .dataframe thead th {\n",
       "        text-align: right;\n",
       "    }\n",
       "</style>\n",
       "<table border=\"1\" class=\"dataframe\">\n",
       "  <thead>\n",
       "    <tr style=\"text-align: right;\">\n",
       "      <th></th>\n",
       "      <th>user_id</th>\n",
       "      <th>number_of_clicks_before</th>\n",
       "      <th>ordered_before</th>\n",
       "      <th>personal_interests</th>\n",
       "      <th>body</th>\n",
       "      <th>foot</th>\n",
       "      <th>fragrance</th>\n",
       "      <th>hair</th>\n",
       "      <th>hand</th>\n",
       "      <th>makeup</th>\n",
       "      <th>men_fragrance</th>\n",
       "      <th>men_skincare</th>\n",
       "      <th>nail</th>\n",
       "      <th>skincare</th>\n",
       "      <th>tools</th>\n",
       "    </tr>\n",
       "  </thead>\n",
       "  <tbody>\n",
       "    <tr>\n",
       "      <th>0</th>\n",
       "      <td>104939</td>\n",
       "      <td>2</td>\n",
       "      <td>True</td>\n",
       "      <td>[body, makeup, nail, hand, foot, men_fragrance...</td>\n",
       "      <td>1.0</td>\n",
       "      <td>1.0</td>\n",
       "      <td>1.0</td>\n",
       "      <td>1.0</td>\n",
       "      <td>1.0</td>\n",
       "      <td>1.0</td>\n",
       "      <td>1.0</td>\n",
       "      <td>0.0</td>\n",
       "      <td>1.0</td>\n",
       "      <td>0.0</td>\n",
       "      <td>1.0</td>\n",
       "    </tr>\n",
       "    <tr>\n",
       "      <th>1</th>\n",
       "      <td>101562</td>\n",
       "      <td>2</td>\n",
       "      <td>True</td>\n",
       "      <td>[men_skincare, men_fragrance, tools, skincare,...</td>\n",
       "      <td>1.0</td>\n",
       "      <td>0.0</td>\n",
       "      <td>0.0</td>\n",
       "      <td>0.0</td>\n",
       "      <td>0.0</td>\n",
       "      <td>1.0</td>\n",
       "      <td>1.0</td>\n",
       "      <td>1.0</td>\n",
       "      <td>1.0</td>\n",
       "      <td>1.0</td>\n",
       "      <td>1.0</td>\n",
       "    </tr>\n",
       "    <tr>\n",
       "      <th>2</th>\n",
       "      <td>102343</td>\n",
       "      <td>2</td>\n",
       "      <td>True</td>\n",
       "      <td>[tools, makeup, foot, nail]</td>\n",
       "      <td>0.0</td>\n",
       "      <td>1.0</td>\n",
       "      <td>0.0</td>\n",
       "      <td>0.0</td>\n",
       "      <td>0.0</td>\n",
       "      <td>1.0</td>\n",
       "      <td>0.0</td>\n",
       "      <td>0.0</td>\n",
       "      <td>1.0</td>\n",
       "      <td>0.0</td>\n",
       "      <td>1.0</td>\n",
       "    </tr>\n",
       "  </tbody>\n",
       "</table>\n",
       "</div>"
      ],
      "text/plain": [
       "   user_id number_of_clicks_before  ordered_before  \\\n",
       "0   104939                       2            True   \n",
       "1   101562                       2            True   \n",
       "2   102343                       2            True   \n",
       "\n",
       "                                  personal_interests  body  foot  fragrance  \\\n",
       "0  [body, makeup, nail, hand, foot, men_fragrance...   1.0   1.0        1.0   \n",
       "1  [men_skincare, men_fragrance, tools, skincare,...   1.0   0.0        0.0   \n",
       "2                        [tools, makeup, foot, nail]   0.0   1.0        0.0   \n",
       "\n",
       "   hair  hand  makeup  men_fragrance  men_skincare  nail  skincare  tools  \n",
       "0   1.0   1.0     1.0            1.0           0.0   1.0       0.0    1.0  \n",
       "1   0.0   0.0     1.0            1.0           1.0   1.0       1.0    1.0  \n",
       "2   0.0   0.0     1.0            0.0           0.0   1.0       0.0    1.0  "
      ]
     },
     "execution_count": 14,
     "metadata": {},
     "output_type": "execute_result"
    }
   ],
   "source": [
    "# Concatenate the original dataframe with the dummies\n",
    "userFeatures1 = pd.concat([userFeatures, dumPerInt], axis=1)\n",
    "\n",
    "userFeatures1.head(3)"
   ]
  },
  {
   "cell_type": "code",
   "execution_count": 15,
   "metadata": {},
   "outputs": [
    {
     "data": {
      "text/plain": [
       "user_id                       0\n",
       "number_of_clicks_before       0\n",
       "ordered_before                0\n",
       "body                       1096\n",
       "foot                       1096\n",
       "fragrance                  1096\n",
       "hair                       1096\n",
       "hand                       1096\n",
       "makeup                     1096\n",
       "men_fragrance              1096\n",
       "men_skincare               1096\n",
       "nail                       1096\n",
       "skincare                   1096\n",
       "tools                      1096\n",
       "dtype: int64"
      ]
     },
     "execution_count": 15,
     "metadata": {},
     "output_type": "execute_result"
    }
   ],
   "source": [
    "#drop the personal_interests column since the dummy vairables has replaced its information\n",
    "userFeatures1.drop([\"personal_interests\"], axis=1, inplace=True)\n",
    "\n",
    "# check if there is new missing values appeared\n",
    "userFeatures1.isnull().sum() # all the dummies has 1096 missing values in each variable"
   ]
  },
  {
   "cell_type": "code",
   "execution_count": 16,
   "metadata": {},
   "outputs": [
    {
     "data": {
      "text/plain": [
       "user_id                    0\n",
       "number_of_clicks_before    0\n",
       "ordered_before             0\n",
       "body                       0\n",
       "foot                       0\n",
       "fragrance                  0\n",
       "hair                       0\n",
       "hand                       0\n",
       "makeup                     0\n",
       "men_fragrance              0\n",
       "men_skincare               0\n",
       "nail                       0\n",
       "skincare                   0\n",
       "tools                      0\n",
       "dtype: int64"
      ]
     },
     "execution_count": 16,
     "metadata": {},
     "output_type": "execute_result"
    }
   ],
   "source": [
    "# fill the NA with 0 since the NAs are from cells where a user doesnot have the specific personal_interest\n",
    "\n",
    "userFeatures1.fillna(0,inplace=True)\n",
    "\n",
    "# again check the missing values \n",
    "\n",
    "userFeatures1.isnull().sum()"
   ]
  },
  {
   "cell_type": "markdown",
   "metadata": {},
   "source": [
    "### 2.4 Merge the dataframes"
   ]
  },
  {
   "cell_type": "code",
   "execution_count": 17,
   "metadata": {},
   "outputs": [
    {
     "data": {
      "text/plain": [
       "(35990, 20)"
      ]
     },
     "execution_count": 17,
     "metadata": {},
     "output_type": "execute_result"
    }
   ],
   "source": [
    "# merge the data frame\n",
    "df1=pd.merge(userFeatures1,click,on=\"user_id\")\n",
    "df1.head()\n",
    "df2=pd.merge(df1,proFeatures,on=\"product_id\")\n",
    "df2.isnull().sum() # there is no missing value\n",
    "df2.shape"
   ]
  },
  {
   "cell_type": "markdown",
   "metadata": {},
   "source": [
    "### 2.5 Encoding the categorical variables"
   ]
  },
  {
   "cell_type": "code",
   "execution_count": 18,
   "metadata": {},
   "outputs": [
    {
     "name": "stdout",
     "output_type": "stream",
     "text": [
      "['hair' 'men_skincare' 'foot' 'hand' 'makeup' 'body' 'men_fragrance'\n",
      " 'fragrance' 'tools' 'skincare' 'nail']\n"
     ]
    },
    {
     "data": {
      "text/html": [
       "<div>\n",
       "<style scoped>\n",
       "    .dataframe tbody tr th:only-of-type {\n",
       "        vertical-align: middle;\n",
       "    }\n",
       "\n",
       "    .dataframe tbody tr th {\n",
       "        vertical-align: top;\n",
       "    }\n",
       "\n",
       "    .dataframe thead th {\n",
       "        text-align: right;\n",
       "    }\n",
       "</style>\n",
       "<table border=\"1\" class=\"dataframe\">\n",
       "  <thead>\n",
       "    <tr style=\"text-align: right;\">\n",
       "      <th></th>\n",
       "      <th>user_id</th>\n",
       "      <th>number_of_clicks_before</th>\n",
       "      <th>ordered_before</th>\n",
       "      <th>body</th>\n",
       "      <th>foot</th>\n",
       "      <th>fragrance</th>\n",
       "      <th>hair</th>\n",
       "      <th>hand</th>\n",
       "      <th>makeup</th>\n",
       "      <th>men_fragrance</th>\n",
       "      <th>men_skincare</th>\n",
       "      <th>nail</th>\n",
       "      <th>skincare</th>\n",
       "      <th>tools</th>\n",
       "      <th>product_id</th>\n",
       "      <th>clicked</th>\n",
       "      <th>category</th>\n",
       "      <th>on_sale</th>\n",
       "      <th>number_of_reviews</th>\n",
       "      <th>avg_review_score</th>\n",
       "    </tr>\n",
       "  </thead>\n",
       "  <tbody>\n",
       "    <tr>\n",
       "      <th>0</th>\n",
       "      <td>104939</td>\n",
       "      <td>3</td>\n",
       "      <td>1</td>\n",
       "      <td>1.0</td>\n",
       "      <td>1.0</td>\n",
       "      <td>1.0</td>\n",
       "      <td>1.0</td>\n",
       "      <td>1.0</td>\n",
       "      <td>1.0</td>\n",
       "      <td>1.0</td>\n",
       "      <td>0.0</td>\n",
       "      <td>1.0</td>\n",
       "      <td>0.0</td>\n",
       "      <td>1.0</td>\n",
       "      <td>1212</td>\n",
       "      <td>0</td>\n",
       "      <td>3</td>\n",
       "      <td>1</td>\n",
       "      <td>789</td>\n",
       "      <td>1.461363</td>\n",
       "    </tr>\n",
       "    <tr>\n",
       "      <th>1</th>\n",
       "      <td>101992</td>\n",
       "      <td>2</td>\n",
       "      <td>1</td>\n",
       "      <td>0.0</td>\n",
       "      <td>0.0</td>\n",
       "      <td>0.0</td>\n",
       "      <td>0.0</td>\n",
       "      <td>0.0</td>\n",
       "      <td>0.0</td>\n",
       "      <td>0.0</td>\n",
       "      <td>0.0</td>\n",
       "      <td>0.0</td>\n",
       "      <td>0.0</td>\n",
       "      <td>0.0</td>\n",
       "      <td>1212</td>\n",
       "      <td>0</td>\n",
       "      <td>3</td>\n",
       "      <td>1</td>\n",
       "      <td>789</td>\n",
       "      <td>1.461363</td>\n",
       "    </tr>\n",
       "    <tr>\n",
       "      <th>2</th>\n",
       "      <td>110175</td>\n",
       "      <td>1</td>\n",
       "      <td>1</td>\n",
       "      <td>0.0</td>\n",
       "      <td>1.0</td>\n",
       "      <td>0.0</td>\n",
       "      <td>0.0</td>\n",
       "      <td>0.0</td>\n",
       "      <td>0.0</td>\n",
       "      <td>1.0</td>\n",
       "      <td>0.0</td>\n",
       "      <td>0.0</td>\n",
       "      <td>1.0</td>\n",
       "      <td>1.0</td>\n",
       "      <td>1212</td>\n",
       "      <td>1</td>\n",
       "      <td>3</td>\n",
       "      <td>1</td>\n",
       "      <td>789</td>\n",
       "      <td>1.461363</td>\n",
       "    </tr>\n",
       "    <tr>\n",
       "      <th>3</th>\n",
       "      <td>111017</td>\n",
       "      <td>2</td>\n",
       "      <td>0</td>\n",
       "      <td>1.0</td>\n",
       "      <td>1.0</td>\n",
       "      <td>1.0</td>\n",
       "      <td>1.0</td>\n",
       "      <td>1.0</td>\n",
       "      <td>1.0</td>\n",
       "      <td>0.0</td>\n",
       "      <td>1.0</td>\n",
       "      <td>1.0</td>\n",
       "      <td>1.0</td>\n",
       "      <td>1.0</td>\n",
       "      <td>1212</td>\n",
       "      <td>0</td>\n",
       "      <td>3</td>\n",
       "      <td>1</td>\n",
       "      <td>789</td>\n",
       "      <td>1.461363</td>\n",
       "    </tr>\n",
       "    <tr>\n",
       "      <th>4</th>\n",
       "      <td>105516</td>\n",
       "      <td>7</td>\n",
       "      <td>0</td>\n",
       "      <td>0.0</td>\n",
       "      <td>1.0</td>\n",
       "      <td>1.0</td>\n",
       "      <td>1.0</td>\n",
       "      <td>1.0</td>\n",
       "      <td>1.0</td>\n",
       "      <td>0.0</td>\n",
       "      <td>0.0</td>\n",
       "      <td>1.0</td>\n",
       "      <td>1.0</td>\n",
       "      <td>1.0</td>\n",
       "      <td>1212</td>\n",
       "      <td>0</td>\n",
       "      <td>3</td>\n",
       "      <td>1</td>\n",
       "      <td>789</td>\n",
       "      <td>1.461363</td>\n",
       "    </tr>\n",
       "  </tbody>\n",
       "</table>\n",
       "</div>"
      ],
      "text/plain": [
       "   user_id  number_of_clicks_before  ordered_before  body  foot  fragrance  \\\n",
       "0   104939                        3               1   1.0   1.0        1.0   \n",
       "1   101992                        2               1   0.0   0.0        0.0   \n",
       "2   110175                        1               1   0.0   1.0        0.0   \n",
       "3   111017                        2               0   1.0   1.0        1.0   \n",
       "4   105516                        7               0   0.0   1.0        1.0   \n",
       "\n",
       "   hair  hand  makeup  men_fragrance  men_skincare  nail  skincare  tools  \\\n",
       "0   1.0   1.0     1.0            1.0           0.0   1.0       0.0    1.0   \n",
       "1   0.0   0.0     0.0            0.0           0.0   0.0       0.0    0.0   \n",
       "2   0.0   0.0     0.0            1.0           0.0   0.0       1.0    1.0   \n",
       "3   1.0   1.0     1.0            0.0           1.0   1.0       1.0    1.0   \n",
       "4   1.0   1.0     1.0            0.0           0.0   1.0       1.0    1.0   \n",
       "\n",
       "   product_id  clicked  category  on_sale  number_of_reviews  avg_review_score  \n",
       "0        1212        0         3        1                789          1.461363  \n",
       "1        1212        0         3        1                789          1.461363  \n",
       "2        1212        1         3        1                789          1.461363  \n",
       "3        1212        0         3        1                789          1.461363  \n",
       "4        1212        0         3        1                789          1.461363  "
      ]
     },
     "execution_count": 18,
     "metadata": {},
     "output_type": "execute_result"
    }
   ],
   "source": [
    "# encoding the category variables into numbers\n",
    "\n",
    "print(df2.category.unique()) # check the category variable \n",
    "\n",
    "df2.category=df2.category.astype(\"category\").cat.codes # encoding the category variable \n",
    "\n",
    "# Encoding the other categorical variables\n",
    "\n",
    "df2.ordered_before=df2.ordered_before.astype(\"category\").cat.codes # encoding ordered_before\n",
    "\n",
    "df2.clicked=df2.clicked.astype(\"category\").cat.codes # encoding_clicked\n",
    "\n",
    "df2.on_sale=df2.on_sale.astype(\"category\").cat.codes # encoding on_sale\n",
    "\n",
    "df2.number_of_clicks_before=df2.number_of_clicks_before.astype(\"category\").cat.codes # encoding number_of_clicks before\n",
    "\n",
    "df2.head()"
   ]
  },
  {
   "cell_type": "code",
   "execution_count": 19,
   "metadata": {},
   "outputs": [
    {
     "data": {
      "text/plain": [
       "0"
      ]
     },
     "execution_count": 19,
     "metadata": {},
     "output_type": "execute_result"
    }
   ],
   "source": [
    "# check if there is duplicated rows\n",
    "df2.duplicated().sum()"
   ]
  },
  {
   "cell_type": "markdown",
   "metadata": {},
   "source": [
    "### 2.6 Check the outliers"
   ]
  },
  {
   "cell_type": "code",
   "execution_count": 20,
   "metadata": {},
   "outputs": [
    {
     "data": {
      "text/plain": [
       "<matplotlib.axes._subplots.AxesSubplot at 0x2140426dc88>"
      ]
     },
     "execution_count": 20,
     "metadata": {},
     "output_type": "execute_result"
    },
    {
     "data": {
      "image/png": "[encoded data removed]",
      "text/plain": [
       "<Figure size 432x288 with 1 Axes>"
      ]
     },
     "metadata": {},
     "output_type": "display_data"
    }
   ],
   "source": [
    "# make plot to check the outliers for avg_review_score\n",
    "sns.boxplot(y=df2.avg_review_score) # from the boxplot, it seems there is no outliers"
   ]
  },
  {
   "cell_type": "code",
   "execution_count": 21,
   "metadata": {},
   "outputs": [
    {
     "name": "stdout",
     "output_type": "stream",
     "text": [
      "(array([], dtype=int64),)\n"
     ]
    }
   ],
   "source": [
    "# define a function to check outliers\n",
    "\n",
    "def outliers_IQR(Var):    \n",
    "    Q1, Q3 = np.percentile(Var, [25, 75]) # get Q1 and Q3 of a variable    \n",
    "    IQR = Q3-Q1    # caculate the IQR    \n",
    "    lower_bound=Q1-(IQR*1.5)  # define the lower threshold of outliers  Q1-1.5IQR \n",
    "    upper_bound=Q3 + (IQR*1.5) # define the upper threshold of outliers  Q3+1.5IQR \n",
    "    return np.where((Var > upper_bound) | (Var < lower_bound)) # return the index of outliers\n",
    "\n",
    "print(outliers_IQR(df2.avg_review_score)) # call the function and display the index of outliers of avg_review_score\n",
    "\n",
    "# output is empty array, indicating no outliers in this variable\n"
   ]
  },
  {
   "cell_type": "code",
   "execution_count": 22,
   "metadata": {},
   "outputs": [
    {
     "data": {
      "text/plain": [
       "<matplotlib.axes._subplots.AxesSubplot at 0x21404273e48>"
      ]
     },
     "execution_count": 22,
     "metadata": {},
     "output_type": "execute_result"
    },
    {
     "data": {
      "image/png": "[encoded data removed]",
      "text/plain": [
       "<Figure size 432x288 with 1 Axes>"
      ]
     },
     "metadata": {},
     "output_type": "display_data"
    }
   ],
   "source": [
    "# visulaize the distribution of number_of_reviews\n",
    "sns.boxplot(y=df2.number_of_reviews) #it seems there is a group of extremely big values "
   ]
  },
  {
   "cell_type": "code",
   "execution_count": 23,
   "metadata": {},
   "outputs": [
    {
     "data": {
      "text/plain": [
       "<matplotlib.axes._subplots.AxesSubplot at 0x214032bb588>"
      ]
     },
     "execution_count": 23,
     "metadata": {},
     "output_type": "execute_result"
    },
    {
     "data": {
      "image/png": "[encoded data removed]",
      "text/plain": [
       "<Figure size 432x288 with 1 Axes>"
      ]
     },
     "metadata": {},
     "output_type": "display_data"
    }
   ],
   "source": [
    "# check the histogram\n",
    "df2.number_of_reviews.hist() # the number_of_reviews distributed into two groups"
   ]
  },
  {
   "cell_type": "code",
   "execution_count": 24,
   "metadata": {},
   "outputs": [
    {
     "name": "stdout",
     "output_type": "stream",
     "text": [
      "(array([  413,   414,   415, ..., 35859, 35860, 35861], dtype=int64),)\n",
      "1770\n"
     ]
    }
   ],
   "source": [
    "# check the outliers using the function\n",
    "review_Out=outliers_IQR(df2.number_of_reviews)\n",
    "print(review_Out) # display the index of outliers\n",
    "print(len(review_Out[0])) # display number of outliers, output shows there are 1770 outliers"
   ]
  },
  {
   "cell_type": "markdown",
   "metadata": {},
   "source": [
    "#### 2.6.1 keep the outliers---df2"
   ]
  },
  {
   "cell_type": "code",
   "execution_count": 25,
   "metadata": {},
   "outputs": [
    {
     "data": {
      "text/html": [
       "<div>\n",
       "<style scoped>\n",
       "    .dataframe tbody tr th:only-of-type {\n",
       "        vertical-align: middle;\n",
       "    }\n",
       "\n",
       "    .dataframe tbody tr th {\n",
       "        vertical-align: top;\n",
       "    }\n",
       "\n",
       "    .dataframe thead th {\n",
       "        text-align: right;\n",
       "    }\n",
       "</style>\n",
       "<table border=\"1\" class=\"dataframe\">\n",
       "  <thead>\n",
       "    <tr style=\"text-align: right;\">\n",
       "      <th></th>\n",
       "      <th>user_id</th>\n",
       "      <th>number_of_clicks_before</th>\n",
       "      <th>ordered_before</th>\n",
       "      <th>body</th>\n",
       "      <th>foot</th>\n",
       "      <th>fragrance</th>\n",
       "      <th>hair</th>\n",
       "      <th>hand</th>\n",
       "      <th>makeup</th>\n",
       "      <th>men_fragrance</th>\n",
       "      <th>men_skincare</th>\n",
       "      <th>nail</th>\n",
       "      <th>skincare</th>\n",
       "      <th>tools</th>\n",
       "      <th>product_id</th>\n",
       "      <th>category</th>\n",
       "      <th>on_sale</th>\n",
       "      <th>number_of_reviews</th>\n",
       "      <th>avg_review_score</th>\n",
       "    </tr>\n",
       "    <tr>\n",
       "      <th>clicked</th>\n",
       "      <th></th>\n",
       "      <th></th>\n",
       "      <th></th>\n",
       "      <th></th>\n",
       "      <th></th>\n",
       "      <th></th>\n",
       "      <th></th>\n",
       "      <th></th>\n",
       "      <th></th>\n",
       "      <th></th>\n",
       "      <th></th>\n",
       "      <th></th>\n",
       "      <th></th>\n",
       "      <th></th>\n",
       "      <th></th>\n",
       "      <th></th>\n",
       "      <th></th>\n",
       "      <th></th>\n",
       "      <th></th>\n",
       "    </tr>\n",
       "  </thead>\n",
       "  <tbody>\n",
       "    <tr>\n",
       "      <th>0</th>\n",
       "      <td>1126</td>\n",
       "      <td>1126</td>\n",
       "      <td>1126</td>\n",
       "      <td>1126</td>\n",
       "      <td>1126</td>\n",
       "      <td>1126</td>\n",
       "      <td>1126</td>\n",
       "      <td>1126</td>\n",
       "      <td>1126</td>\n",
       "      <td>1126</td>\n",
       "      <td>1126</td>\n",
       "      <td>1126</td>\n",
       "      <td>1126</td>\n",
       "      <td>1126</td>\n",
       "      <td>1126</td>\n",
       "      <td>1126</td>\n",
       "      <td>1126</td>\n",
       "      <td>1126</td>\n",
       "      <td>1126</td>\n",
       "    </tr>\n",
       "    <tr>\n",
       "      <th>1</th>\n",
       "      <td>644</td>\n",
       "      <td>644</td>\n",
       "      <td>644</td>\n",
       "      <td>644</td>\n",
       "      <td>644</td>\n",
       "      <td>644</td>\n",
       "      <td>644</td>\n",
       "      <td>644</td>\n",
       "      <td>644</td>\n",
       "      <td>644</td>\n",
       "      <td>644</td>\n",
       "      <td>644</td>\n",
       "      <td>644</td>\n",
       "      <td>644</td>\n",
       "      <td>644</td>\n",
       "      <td>644</td>\n",
       "      <td>644</td>\n",
       "      <td>644</td>\n",
       "      <td>644</td>\n",
       "    </tr>\n",
       "  </tbody>\n",
       "</table>\n",
       "</div>"
      ],
      "text/plain": [
       "         user_id  number_of_clicks_before  ordered_before  body  foot  \\\n",
       "clicked                                                                 \n",
       "0           1126                     1126            1126  1126  1126   \n",
       "1            644                      644             644   644   644   \n",
       "\n",
       "         fragrance  hair  hand  makeup  men_fragrance  men_skincare  nail  \\\n",
       "clicked                                                                     \n",
       "0             1126  1126  1126    1126           1126          1126  1126   \n",
       "1              644   644   644     644            644           644   644   \n",
       "\n",
       "         skincare  tools  product_id  category  on_sale  number_of_reviews  \\\n",
       "clicked                                                                      \n",
       "0            1126   1126        1126      1126     1126               1126   \n",
       "1             644    644         644       644      644                644   \n",
       "\n",
       "         avg_review_score  \n",
       "clicked                    \n",
       "0                    1126  \n",
       "1                     644  "
      ]
     },
     "execution_count": 25,
     "metadata": {},
     "output_type": "execute_result"
    }
   ],
   "source": [
    "df3=df2.loc[review_Out[0],:] # extracting the rows with outliers from the dataframe\n",
    "\n",
    "#check if the outliers are in some certain group\n",
    "df3.groupby(\"clicked\").count() # it seems the most of outliers are from product have been clicked, so it mostly \n",
    "#belongs to one group, I think maybe it will not influence the result much, I decide to keep the outliers"
   ]
  },
  {
   "cell_type": "markdown",
   "metadata": {},
   "source": [
    "#### 2.6.2 Remove the outliers---df2a"
   ]
  },
  {
   "cell_type": "code",
   "execution_count": 26,
   "metadata": {},
   "outputs": [
    {
     "name": "stdout",
     "output_type": "stream",
     "text": [
      "(34220, 20)\n"
     ]
    },
    {
     "data": {
      "image/png": "[encoded data removed]",
      "text/plain": [
       "<Figure size 432x288 with 1 Axes>"
      ]
     },
     "metadata": {},
     "output_type": "display_data"
    }
   ],
   "source": [
    "# I also want to see how the ouliters will influence the results of prediction\n",
    "# so here I remove the outliers and save it to another dataframe to compare the model with two datasets\n",
    "\n",
    "df2a=df2.copy() # copy the merged dataset\n",
    "\n",
    "df2a.drop(df2a.index[review_Out[0]],axis=0,inplace=True) # remove the rows with outliers\n",
    "\n",
    "sns.boxplot(df2a.number_of_reviews) # make a boxlot to see the new distribution, no more outliers anymore on th plot\n",
    "\n",
    "print(df2a.shape)\n"
   ]
  },
  {
   "cell_type": "markdown",
   "metadata": {},
   "source": [
    "## Question 3: Model Generation and Evaluation"
   ]
  },
  {
   "cell_type": "markdown",
   "metadata": {},
   "source": [
    "### 3.1 Split the data into training and testing dataset"
   ]
  },
  {
   "cell_type": "code",
   "execution_count": 27,
   "metadata": {},
   "outputs": [],
   "source": [
    "# import the modules\n",
    "\n",
    "from sklearn.model_selection import train_test_split\n",
    "\n",
    "from sklearn.neighbors import KNeighborsClassifier\n",
    "\n",
    "from sklearn.metrics import accuracy_score\n",
    "\n",
    "from sklearn.metrics import classification_report,confusion_matrix\n",
    "\n",
    "from sklearn import tree\n",
    "\n",
    "from sklearn.ensemble import RandomForestClassifier \n"
   ]
  },
  {
   "cell_type": "code",
   "execution_count": 28,
   "metadata": {},
   "outputs": [
    {
     "name": "stderr",
     "output_type": "stream",
     "text": [
      "C:\\Users\\thiago\\Anaconda3\\lib\\site-packages\\sklearn\\model_selection\\_split.py:2179: FutureWarning: From version 0.21, test_size will always complement train_size unless both are specified.\n",
      "  FutureWarning)\n"
     ]
    }
   ],
   "source": [
    "# split the dataframe into features and target\n",
    "\n",
    "X=df2.drop(columns=[\"user_id\",\"product_id\",\"clicked\"],axis=1) # drop the three columns and set it as features\n",
    "Y=df2.loc[:,\"clicked\"]   # set clicked column as target\n",
    "\n",
    "# do the samething as above using dataset without outliers\n",
    "X1=df2a.drop(columns=[\"user_id\",\"product_id\",\"clicked\"],axis=1) \n",
    "Y1=df2a.loc[:,\"clicked\"]\n",
    "\n",
    "# split the data with 0.7/0.3 for training and testing\n",
    "X_train, X_test, Y_train, Y_test = train_test_split(X, Y,random_state=0,train_size=0.7)\n",
    "\n",
    "X1_train, X1_test, Y1_train, Y1_test = train_test_split(X1, Y1,random_state=0,train_size=0.7)"
   ]
  },
  {
   "cell_type": "markdown",
   "metadata": {},
   "source": [
    "### 3.2 KNeigborsClassifier model"
   ]
  },
  {
   "cell_type": "markdown",
   "metadata": {},
   "source": [
    "#### 3.2.1 Modeling with dataset including outliers"
   ]
  },
  {
   "cell_type": "code",
   "execution_count": 29,
   "metadata": {},
   "outputs": [
    {
     "name": "stdout",
     "output_type": "stream",
     "text": [
      "[0.6738908956191535, 0.6954709641567102, 0.7074187274242846, 0.7096415671019728, 0.720755765490414, 0.7196443456515699, 0.7264981013244419, 0.7244604982865611, 0.7295545058812634, 0.7295545058812634, 0.7330740020376031, 0.732518292118181, 0.7330740020376031, 0.7358525516347133, 0.7368713531536538, 0.7391868111512457, 0.7377049180327869, 0.7373344447531722, 0.7385384829119199]\n"
     ]
    },
    {
     "data": {
      "image/png": "[encoded data removed]",
      "text/plain": [
       "<Figure size 432x288 with 1 Axes>"
      ]
     },
     "metadata": {},
     "output_type": "display_data"
    }
   ],
   "source": [
    "accuracy=[]  # initiate accuracy\n",
    "\n",
    "k=range(1,20)  # set k from 1 to 19\n",
    "\n",
    "# write a for loop to find the best k\n",
    "for i in k:  \n",
    "    \n",
    "    model=KNeighborsClassifier(n_neighbors=i) # build  the model KNeighborsClassifier\n",
    "\n",
    "    model.fit(X_train, Y_train) # fit the model with train set\n",
    "\n",
    "    Y_predict=model.predict(X_test) # use the mode to predict the test set\n",
    "\n",
    "    accuracy.append(accuracy_score(Y_test, Y_predict)) # add the accuracy for each model\n",
    "    \n",
    "print(accuracy) # display the accuracy\n",
    "\n",
    "plt.plot(k,accuracy) # plot accuracy vs k\n",
    "\n",
    "plt.xlabel(\"n_neigbors\") # add xlabel\n",
    "\n",
    "plt.ylabel(\"accuracy\") # add ylabel\n",
    "\n",
    "plt.show() # display the plot shows when k=16, the accuracy is highest, about 0.74\n"
   ]
  },
  {
   "cell_type": "code",
   "execution_count": 30,
   "metadata": {},
   "outputs": [
    {
     "name": "stdout",
     "output_type": "stream",
     "text": [
      "accuracy: \n",
      " 0.7391868111512457\n",
      "confusion_matrix: \n",
      " [[5853 1061]\n",
      " [1755 2128]]\n",
      "classification_report: \n",
      "               precision    recall  f1-score   support\n",
      "\n",
      "           0       0.77      0.85      0.81      6914\n",
      "           1       0.67      0.55      0.60      3883\n",
      "\n",
      "   micro avg       0.74      0.74      0.74     10797\n",
      "   macro avg       0.72      0.70      0.70     10797\n",
      "weighted avg       0.73      0.74      0.73     10797\n",
      "\n"
     ]
    }
   ],
   "source": [
    "# select k=16 to fit a model and check the result\n",
    "\n",
    "model1=KNeighborsClassifier(n_neighbors=16)  # chooose k=16 and build model\n",
    "\n",
    "model1.fit(X_train, Y_train)  # fit the model with training data\n",
    "\n",
    "Y_predict=model1.predict(X_test)  # predict the test data with model\n",
    "\n",
    "print(\"accuracy: \\n\", accuracy_score(Y_test, Y_predict))  # display the accuracy\n",
    "\n",
    "print(\"confusion_matrix: \\n\", confusion_matrix(Y_test, Y_predict))  # display the confusion_matrix\n",
    "\n",
    "print(\"classification_report: \\n\", classification_report(Y_test, Y_predict))  # display the classification report"
   ]
  },
  {
   "cell_type": "markdown",
   "metadata": {},
   "source": [
    "#### 3.2.2 Modeling dataset without the outliers"
   ]
  },
  {
   "cell_type": "code",
   "execution_count": 31,
   "metadata": {},
   "outputs": [
    {
     "name": "stdout",
     "output_type": "stream",
     "text": [
      "[0.6808883693746347, 0.700759789596727, 0.7110851353984025, 0.7179037599844146, 0.7232612507305669, 0.7279368790181181, 0.7332943697642704, 0.7335865965322423, 0.7373855445158777, 0.7369959088252483, 0.7394311318916813, 0.7396259497369959, 0.744301578024547, 0.7434248977206313, 0.7453730761737776, 0.7448860315604909, 0.7470290278589519, 0.7457627118644068, 0.7477108903175531]\n"
     ]
    },
    {
     "data": {
      "image/png": "[encoded data removed]",
      "text/plain": [
       "<Figure size 432x288 with 1 Axes>"
      ]
     },
     "metadata": {},
     "output_type": "display_data"
    }
   ],
   "source": [
    "# modeling with data removing the outliers\n",
    "\n",
    "accuracy1=[]  # initiate accuracy1\n",
    "\n",
    "k1=range(1,20) # set k1 from 1 to 19\n",
    "\n",
    "#write a for loop to find the best k\n",
    "\n",
    "for i in k1:\n",
    "    \n",
    "    model1=KNeighborsClassifier(n_neighbors=i) # build model\n",
    "\n",
    "    model1.fit(X1_train, Y1_train) # fit model\n",
    "\n",
    "    Y1_predict=model1.predict(X1_test) # predict data\n",
    "\n",
    "    accuracy1.append(accuracy_score(Y1_test, Y1_predict)) # add accuracy from each model\n",
    "    \n",
    "print(accuracy1) # display accuracy\n",
    "\n",
    "plt.plot(k1,accuracy1)  # plot accuracy vs k1\n",
    "\n",
    "plt.xlabel(\"n_neigbors\") # add xlabel\n",
    "\n",
    "plt.ylabel(\"accuracy\") # add ylabel\n",
    "\n",
    "plt.show() # the plot shows when k=19, the accuracy is highest, about 0.75"
   ]
  },
  {
   "cell_type": "code",
   "execution_count": 32,
   "metadata": {},
   "outputs": [
    {
     "name": "stdout",
     "output_type": "stream",
     "text": [
      "accuracy_score: \n",
      " 0.7477108903175531\n",
      "confusion_matrix: \n",
      " [[5513 1123]\n",
      " [1467 2163]]\n",
      "classification_report: \n",
      "               precision    recall  f1-score   support\n",
      "\n",
      "           0       0.79      0.83      0.81      6636\n",
      "           1       0.66      0.60      0.63      3630\n",
      "\n",
      "   micro avg       0.75      0.75      0.75     10266\n",
      "   macro avg       0.72      0.71      0.72     10266\n",
      "weighted avg       0.74      0.75      0.74     10266\n",
      "\n"
     ]
    }
   ],
   "source": [
    "model1=KNeighborsClassifier(n_neighbors=19) # set k=19 to build model\n",
    "\n",
    "model1.fit(X1_train, Y1_train) # fit the model\n",
    "\n",
    "Y1_predict=model1.predict(X1_test) # predict the data\n",
    "\n",
    "print(\"accuracy_score: \\n\",accuracy_score(Y1_test, Y1_predict)) # display the accuracy\n",
    "\n",
    "print(\"confusion_matrix: \\n\",confusion_matrix(Y1_test, Y1_predict)) # display a confusion matrix\n",
    "\n",
    "print(\"classification_report: \\n\", classification_report(Y1_test, Y1_predict)) # display the classification report"
   ]
  },
  {
   "cell_type": "markdown",
   "metadata": {},
   "source": [
    "### 3.3 decision tree"
   ]
  },
  {
   "cell_type": "markdown",
   "metadata": {},
   "source": [
    "#### 3.3.1 Modeling dataset including outliers"
   ]
  },
  {
   "cell_type": "code",
   "execution_count": 33,
   "metadata": {},
   "outputs": [
    {
     "name": "stdout",
     "output_type": "stream",
     "text": [
      "[0.6403630638140224, 0.7122348800592757, 0.7326109104380847, 0.732518292118181, 0.7413170325090302, 0.74483652866537, 0.7409465592294155, 0.7464110401037325, 0.7431693989071039, 0.735945169954617, 0.7285357043623228, 0.7176993609335927, 0.7091784755024544, 0.7014911549504492]\n"
     ]
    },
    {
     "data": {
      "image/png": "[encoded data removed]",
      "text/plain": [
       "<Figure size 432x288 with 1 Axes>"
      ]
     },
     "metadata": {},
     "output_type": "display_data"
    }
   ],
   "source": [
    "k2=range(1,15) # set k from 1 to 14\n",
    "\n",
    "score=[] # intiate score\n",
    "\n",
    "# write a for loop to find the best k\n",
    "\n",
    "for i in k2:  \n",
    "    \n",
    "    model2 = tree.DecisionTreeClassifier(max_depth=i,criterion=\"entropy\",random_state=0) # build model\n",
    "\n",
    "    model2.fit(X_train, Y_train) # fit the model\n",
    "\n",
    "    Y_predict=model2.predict(X_test) # predict the test data\n",
    "\n",
    "    score.append(accuracy_score(Y_test, Y_predict)) # add accuracy from each model\n",
    "    \n",
    "print(score) # display score\n",
    "\n",
    "plt.plot(k2,score) # plot score vs k \n",
    "\n",
    "plt.xlabel(\"max_depth\") # add xlabel\n",
    "\n",
    "plt.ylabel(\"accuracy\") # add y label\n",
    "\n",
    "plt.show() # display plot,score=74.64% is highest when max_depth=8\n"
   ]
  },
  {
   "cell_type": "code",
   "execution_count": 34,
   "metadata": {},
   "outputs": [
    {
     "name": "stdout",
     "output_type": "stream",
     "text": [
      "accuracy_score: \n",
      " 0.7464110401037325\n",
      "confusion_matrix: \n",
      " [[5769 1145]\n",
      " [1593 2290]]\n",
      "classification_report: \n",
      "               precision    recall  f1-score   support\n",
      "\n",
      "           0       0.78      0.83      0.81      6914\n",
      "           1       0.67      0.59      0.63      3883\n",
      "\n",
      "   micro avg       0.75      0.75      0.75     10797\n",
      "   macro avg       0.73      0.71      0.72     10797\n",
      "weighted avg       0.74      0.75      0.74     10797\n",
      "\n"
     ]
    }
   ],
   "source": [
    "# choose the best max_depth to build model and check result\n",
    "\n",
    "model2 = tree.DecisionTreeClassifier(max_depth=8,criterion=\"entropy\",random_state=0) # build model with max-depth=8\n",
    "\n",
    "model2.fit(X_train, Y_train) # fit a model\n",
    "\n",
    "Y_predict=model2.predict(X_test) # predict test data\n",
    "\n",
    "print(\"accuracy_score: \\n\",accuracy_score(Y_test, Y_predict)) # display accuracy\n",
    "\n",
    "print(\"confusion_matrix: \\n\",confusion_matrix(Y_test, Y_predict)) # display confusion_matrix\n",
    "\n",
    "print(\"classification_report: \\n\",classification_report(Y_test, Y_predict)) # displayclassification report"
   ]
  },
  {
   "cell_type": "markdown",
   "metadata": {},
   "source": [
    "#### 3.3.2 Modeling dataset without outliers"
   ]
  },
  {
   "cell_type": "code",
   "execution_count": 35,
   "metadata": {},
   "outputs": [
    {
     "name": "stdout",
     "output_type": "stream",
     "text": [
      "[0.6464056107539451, 0.7167348529125268, 0.7392363140463667, 0.7435223066432886, 0.7511202026105591, 0.7513150204558737, 0.7529709721410481, 0.7499512955386713, 0.74673680109098, 0.74274303526203, 0.7347555036041301, 0.724527566725112, 0.7204363919735047, 0.7069939606467952]\n"
     ]
    },
    {
     "data": {
      "image/png": "[encoded data removed]",
      "text/plain": [
       "<Figure size 432x288 with 1 Axes>"
      ]
     },
     "metadata": {},
     "output_type": "display_data"
    }
   ],
   "source": [
    "k2=range(1,15) # set k from 1 to 14\n",
    "\n",
    "score_1=[] #initiate score_1\n",
    "\n",
    "#write a for loop to find the best max_depth\n",
    "\n",
    "for i in k2:  \n",
    "    \n",
    "    model2 = tree.DecisionTreeClassifier(max_depth=i,criterion=\"entropy\",random_state=0) # build a model \n",
    "\n",
    "    model2.fit(X1_train, Y1_train) # fit model\n",
    "\n",
    "    Y1_predict=model2.predict(X1_test) # predict the test data\n",
    "\n",
    "    score_1.append(accuracy_score(Y1_test, Y1_predict)) #add score_1 from each model\n",
    "    \n",
    "print(score_1) #display score_1\n",
    "\n",
    "plt.plot(k2,score_1) #plot max_depth vs score_1\n",
    "\n",
    "plt.xlabel(\"max_depth\") # add xlabel\n",
    "\n",
    "plt.ylabel(\"accuracy\") # add ylabel\n",
    "\n",
    "plt.show() #display plot, score=75.30% is highest when max_depth=7\n"
   ]
  },
  {
   "cell_type": "code",
   "execution_count": 36,
   "metadata": {},
   "outputs": [
    {
     "name": "stdout",
     "output_type": "stream",
     "text": [
      "accuracy_score: \n",
      " 0.7529709721410481\n",
      "confusion_matrix: \n",
      " [[5517 1119]\n",
      " [1417 2213]]\n",
      "classification_report: \n",
      "               precision    recall  f1-score   support\n",
      "\n",
      "           0       0.80      0.83      0.81      6636\n",
      "           1       0.66      0.61      0.64      3630\n",
      "\n",
      "   micro avg       0.75      0.75      0.75     10266\n",
      "   macro avg       0.73      0.72      0.72     10266\n",
      "weighted avg       0.75      0.75      0.75     10266\n",
      "\n"
     ]
    }
   ],
   "source": [
    "#build model with best max_depth and check the result\n",
    "\n",
    "model2 = tree.DecisionTreeClassifier(max_depth=7,criterion=\"entropy\",random_state=0) # bbuild model with max_depth=7\n",
    "\n",
    "model2.fit(X1_train, Y1_train) # fit the model\n",
    "\n",
    "Y1_predict=model2.predict(X1_test) # predict test data\n",
    "\n",
    "print(\"accuracy_score: \\n\",accuracy_score(Y1_test, Y1_predict)) # display accuracy\n",
    "\n",
    "print(\"confusion_matrix: \\n\",confusion_matrix(Y1_test, Y1_predict)) # display confusion matrix\n",
    "\n",
    "print(\"classification_report: \\n\",classification_report(Y1_test, Y1_predict)) # display classification report"
   ]
  },
  {
   "cell_type": "markdown",
   "metadata": {},
   "source": [
    "### 3.4 Random forest"
   ]
  },
  {
   "cell_type": "markdown",
   "metadata": {},
   "source": [
    "#### 3.4.1 Modeling dataset including outliers"
   ]
  },
  {
   "cell_type": "code",
   "execution_count": 37,
   "metadata": {
    "scrolled": true
   },
   "outputs": [
    {
     "name": "stdout",
     "output_type": "stream",
     "text": [
      "accuracy_score: \n",
      " 0.7315921089191442\n",
      "confusion_matrix: \n",
      " [[5842 1072]\n",
      " [1826 2057]]\n",
      "classification_report: \n",
      "               precision    recall  f1-score   support\n",
      "\n",
      "           0       0.76      0.84      0.80      6914\n",
      "           1       0.66      0.53      0.59      3883\n",
      "\n",
      "   micro avg       0.73      0.73      0.73     10797\n",
      "   macro avg       0.71      0.69      0.69     10797\n",
      "weighted avg       0.72      0.73      0.72     10797\n",
      "\n"
     ]
    }
   ],
   "source": [
    "model3=RandomForestClassifier(n_estimators=30, random_state=0) # build a model with n_estimator=30\n",
    "\n",
    "model3.fit(X_train,Y_train) # fit the model\n",
    "\n",
    "Y_predict=model3.predict(X_test) # predict test data\n",
    "\n",
    "print(\"accuracy_score: \\n\", accuracy_score(Y_test, Y_predict)) # display the accuracy\n",
    "\n",
    "print(\"confusion_matrix: \\n\", confusion_matrix(Y_test, Y_predict)) # display the confusion matrix\n",
    "\n",
    "print(\"classification_report: \\n\", classification_report(Y_test, Y_predict)) # display the classification_report"
   ]
  },
  {
   "cell_type": "markdown",
   "metadata": {},
   "source": [
    "#### 3.4.2 Modeling dataset without outliers"
   ]
  },
  {
   "cell_type": "code",
   "execution_count": 38,
   "metadata": {},
   "outputs": [
    {
     "name": "stdout",
     "output_type": "stream",
     "text": [
      "accuracy_score: \n",
      " 0.7358270017533606\n",
      "confusion_matrix: \n",
      " [[5553 1083]\n",
      " [1629 2001]]\n",
      "classification_report: \n",
      "               precision    recall  f1-score   support\n",
      "\n",
      "           0       0.77      0.84      0.80      6636\n",
      "           1       0.65      0.55      0.60      3630\n",
      "\n",
      "   micro avg       0.74      0.74      0.74     10266\n",
      "   macro avg       0.71      0.69      0.70     10266\n",
      "weighted avg       0.73      0.74      0.73     10266\n",
      "\n"
     ]
    }
   ],
   "source": [
    "model3=RandomForestClassifier(n_estimators=30, random_state=0) # build a model with n_estimator=30\n",
    "\n",
    "model3.fit(X1_train,Y1_train) # fit the model\n",
    "\n",
    "Y1_predict=model3.predict(X1_test) # predict test data\n",
    "\n",
    "print(\"accuracy_score: \\n\", accuracy_score(Y1_test, Y1_predict)) # display the accuracy\n",
    "\n",
    "print(\"confusion_matrix: \\n\", confusion_matrix(Y1_test, Y1_predict)) # display the confusion matrix\n",
    "\n",
    "print(\"classification_report: \\n\", classification_report(Y1_test, Y1_predict)) # display the classification_report\n"
   ]
  },
  {
   "cell_type": "markdown",
   "metadata": {},
   "source": [
    "## Question 4: Which model has the best performance? What have you learned from the models you built?"
   ]
  },
  {
   "cell_type": "markdown",
   "metadata": {},
   "source": [
    "### 4.1 Which model has the best performance?"
   ]
  },
  {
   "cell_type": "code",
   "execution_count": 39,
   "metadata": {},
   "outputs": [
    {
     "name": "stdout",
     "output_type": "stream",
     "text": [
      "           Model     df2    df2a\n",
      "0            KNN  0.7391  0.7477\n",
      "1  Decision tree  0.7464  0.7530\n",
      "2             RF  0.7316  0.7358\n"
     ]
    },
    {
     "data": {
      "text/plain": [
       "<matplotlib.legend.Legend at 0x214043e59b0>"
      ]
     },
     "execution_count": 39,
     "metadata": {},
     "output_type": "execute_result"
    },
    {
     "data": {
      "image/png": "[encoded data removed]",
      "text/plain": [
       "<Figure size 432x288 with 1 Axes>"
      ]
     },
     "metadata": {},
     "output_type": "display_data"
    }
   ],
   "source": [
    "#plot the accuracy vs models\n",
    "\n",
    "model=[\"KNN\",\"Decision tree\",\"RF\"] # assign model name\n",
    "\n",
    "df2_out=[0.7391,0.7464,0.7316] # the accuracy of the data with outliers from 3 models\n",
    "\n",
    "df2a_noOut=[0.7477,0.7530,0.7358] # the accuracy of the data without outliers from 3 models\n",
    "\n",
    "accuracy=pd.DataFrame({\"Model\":model,\"df2\":df2_out,\"df2a\":df2a_noOut}) # create a dataframe\n",
    "\n",
    "print(accuracy) # display the dataframe\n",
    "\n",
    "accuracy.plot.bar() # make a bar plot\n",
    "\n",
    "plt.xlabel(\"model\") # add xlabel\n",
    "\n",
    "plt.ylabel(\"accuracy\") # add ylabel\n",
    "\n",
    "plt.xticks(np.arange(len(model)),model) # set xticks\n",
    "\n",
    "plt.xticks(rotation=0) # avoid rotation\n",
    "\n",
    "plt.legend(loc=\"best\",prop={'size':7}) # adjust the size"
   ]
  },
  {
   "cell_type": "markdown",
   "metadata": {},
   "source": [
    "* From the plot and dataframe, we can see the decision tree model has the highest accuracy in both datasets.\n",
    "* All three models has higher accuracy in dataset df2a, which is without outliers, so the outliers indeed influence the prediction result. "
   ]
  },
  {
   "cell_type": "markdown",
   "metadata": {},
   "source": [
    "### 4.2 What have learned"
   ]
  },
  {
   "cell_type": "markdown",
   "metadata": {},
   "source": [
    "* Removing outliers can improve the accuracy of a model, so the data cleaning and preprocessing is very important.\n",
    "* Random forest model is based on decision tree and it should have got better performance, the reason it has less accuracy than the decision tree model is probably that the parameters are not the optimal for the model. Improving the model and getting a better result will take more time and this will be done in my future study.  \n",
    "* Although decision tree has the highest accuracy and precision, the recall is not the highest in the model. When we choose a model in real life, we should also consider the recall since it is relevant to the consequence of the problem."
   ]
  }
 ],
 "metadata": {
  "kernelspec": {
   "display_name": "Python 3",
   "language": "python",
   "name": "python3"
  },
  "language_info": {
   "codemirror_mode": {
    "name": "ipython",
    "version": 3
   },
   "file_extension": ".py",
   "mimetype": "text/x-python",
   "name": "python",
   "nbconvert_exporter": "python",
   "pygments_lexer": "ipython3",
   "version": "3.7.6"
  }
 },
 "nbformat": 4,
 "nbformat_minor": 2
}
